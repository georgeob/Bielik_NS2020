{
 "cells": [
  {
   "cell_type": "code",
   "execution_count": 1,
   "metadata": {},
   "outputs": [
    {
     "data": {
      "text/html": [
       "        &lt;script type=\"text/javascript\"&gt;\n",
       "        window.PlotlyConfig = {MathJaxConfig: 'local'};\n",
       "        if (window.MathJax) {MathJax.Hub.Config({SVG: {font: \"STIX-Web\"}});}\n",
       "        if (typeof require !== 'undefined') {\n",
       "        require.undef(\"plotly\");\n",
       "        requirejs.config({\n",
       "            paths: {\n",
       "                'plotly': ['https://cdn.plot.ly/plotly-latest.min']\n",
       "            }\n",
       "        });\n",
       "        require(['plotly'], function(Plotly) {\n",
       "            window._Plotly = Plotly;\n",
       "        });\n",
       "        }\n",
       "        &lt;/script&gt;\n",
       "        "
      ]
     },
     "metadata": {},
     "output_type": "display_data"
    }
   ],
   "source": [
    "import numpy as np\n",
    "import pandas as pd \n",
    "import matplotlib.pyplot as plt\n",
    "import seaborn as sns\n",
    "\n",
    "from plotly.offline import init_notebook_mode, iplot\n",
    "init_notebook_mode(connected=True)\n",
    "import plotly.graph_objs as go\n"
   ]
  },
  {
   "cell_type": "code",
   "execution_count": 2,
   "metadata": {},
   "outputs": [],
   "source": [
    "data = pd.read_csv('heart.csv')"
   ]
  },
  {
   "cell_type": "code",
   "execution_count": 3,
   "metadata": {},
   "outputs": [],
   "source": [
    "A = data[data.target == 1]\n",
    "B = data[data.target == 0]"
   ]
  },
  {
   "cell_type": "code",
   "execution_count": 4,
   "metadata": {},
   "outputs": [
    {
     "data": {
      "text/plain": [
       "(303, 14)"
      ]
     },
     "execution_count": 4,
     "metadata": {},
     "output_type": "execute_result"
    }
   ],
   "source": [
    "data.shape"
   ]
  },
  {
   "cell_type": "code",
   "execution_count": 5,
   "metadata": {},
   "outputs": [
    {
     "data": {
      "text/plain": [
       "pandas.core.frame.DataFrame"
      ]
     },
     "execution_count": 5,
     "metadata": {},
     "output_type": "execute_result"
    }
   ],
   "source": [
    "type(data)"
   ]
  },
  {
   "cell_type": "code",
   "execution_count": 6,
   "metadata": {},
   "outputs": [
    {
     "data": {
      "text/html": [
       "<div>\n",
       "<style>\n",
       "    .dataframe tbody tr th:only-of-type {\n",
       "        vertical-align: middle;\n",
       "    }\n",
       "\n",
       "    .dataframe tbody tr th {\n",
       "        vertical-align: top;\n",
       "    }\n",
       "\n",
       "    .dataframe thead th {\n",
       "        text-align: right;\n",
       "    }\n",
       "</style>\n",
       "<table class=\"dataframe\">\n",
       "  <thead>\n",
       "    <tr style=\"text-align: right;\">\n",
       "      <th></th>\n",
       "      <th>age</th>\n",
       "      <th>sex</th>\n",
       "      <th>cp</th>\n",
       "      <th>trestbps</th>\n",
       "      <th>chol</th>\n",
       "      <th>fbs</th>\n",
       "      <th>restecg</th>\n",
       "      <th>thalach</th>\n",
       "      <th>exang</th>\n",
       "      <th>oldpeak</th>\n",
       "      <th>slope</th>\n",
       "      <th>ca</th>\n",
       "      <th>thal</th>\n",
       "      <th>target</th>\n",
       "    </tr>\n",
       "  </thead>\n",
       "  <tbody>\n",
       "    <tr>\n",
       "      <th>0</th>\n",
       "      <td>63</td>\n",
       "      <td>1</td>\n",
       "      <td>3</td>\n",
       "      <td>145</td>\n",
       "      <td>233</td>\n",
       "      <td>1</td>\n",
       "      <td>0</td>\n",
       "      <td>150</td>\n",
       "      <td>0</td>\n",
       "      <td>2.3</td>\n",
       "      <td>0</td>\n",
       "      <td>0</td>\n",
       "      <td>1</td>\n",
       "      <td>1</td>\n",
       "    </tr>\n",
       "    <tr>\n",
       "      <th>1</th>\n",
       "      <td>37</td>\n",
       "      <td>1</td>\n",
       "      <td>2</td>\n",
       "      <td>130</td>\n",
       "      <td>250</td>\n",
       "      <td>0</td>\n",
       "      <td>1</td>\n",
       "      <td>187</td>\n",
       "      <td>0</td>\n",
       "      <td>3.5</td>\n",
       "      <td>0</td>\n",
       "      <td>0</td>\n",
       "      <td>2</td>\n",
       "      <td>1</td>\n",
       "    </tr>\n",
       "    <tr>\n",
       "      <th>2</th>\n",
       "      <td>41</td>\n",
       "      <td>0</td>\n",
       "      <td>1</td>\n",
       "      <td>130</td>\n",
       "      <td>204</td>\n",
       "      <td>0</td>\n",
       "      <td>0</td>\n",
       "      <td>172</td>\n",
       "      <td>0</td>\n",
       "      <td>1.4</td>\n",
       "      <td>2</td>\n",
       "      <td>0</td>\n",
       "      <td>2</td>\n",
       "      <td>1</td>\n",
       "    </tr>\n",
       "    <tr>\n",
       "      <th>3</th>\n",
       "      <td>56</td>\n",
       "      <td>1</td>\n",
       "      <td>1</td>\n",
       "      <td>120</td>\n",
       "      <td>236</td>\n",
       "      <td>0</td>\n",
       "      <td>1</td>\n",
       "      <td>178</td>\n",
       "      <td>0</td>\n",
       "      <td>0.8</td>\n",
       "      <td>2</td>\n",
       "      <td>0</td>\n",
       "      <td>2</td>\n",
       "      <td>1</td>\n",
       "    </tr>\n",
       "    <tr>\n",
       "      <th>4</th>\n",
       "      <td>57</td>\n",
       "      <td>0</td>\n",
       "      <td>0</td>\n",
       "      <td>120</td>\n",
       "      <td>354</td>\n",
       "      <td>0</td>\n",
       "      <td>1</td>\n",
       "      <td>163</td>\n",
       "      <td>1</td>\n",
       "      <td>0.6</td>\n",
       "      <td>2</td>\n",
       "      <td>0</td>\n",
       "      <td>2</td>\n",
       "      <td>1</td>\n",
       "    </tr>\n",
       "  </tbody>\n",
       "</table>\n",
       "</div>"
      ],
      "text/plain": [
       "   age  sex  cp  trestbps  chol  fbs  restecg  thalach  exang  oldpeak  slope  \\\n",
       "0   63    1   3       145   233    1        0      150      0      2.3      0   \n",
       "1   37    1   2       130   250    0        1      187      0      3.5      0   \n",
       "2   41    0   1       130   204    0        0      172      0      1.4      2   \n",
       "3   56    1   1       120   236    0        1      178      0      0.8      2   \n",
       "4   57    0   0       120   354    0        1      163      1      0.6      2   \n",
       "\n",
       "   ca  thal  target  \n",
       "0   0     1       1  \n",
       "1   0     2       1  \n",
       "2   0     2       1  \n",
       "3   0     2       1  \n",
       "4   0     2       1  "
      ]
     },
     "execution_count": 6,
     "metadata": {},
     "output_type": "execute_result"
    }
   ],
   "source": [
    "data.head()"
   ]
  },
  {
   "cell_type": "code",
   "execution_count": 7,
   "metadata": {},
   "outputs": [
    {
     "data": {
      "text/html": [
       "<div>\n",
       "<style>\n",
       "    .dataframe tbody tr th:only-of-type {\n",
       "        vertical-align: middle;\n",
       "    }\n",
       "\n",
       "    .dataframe tbody tr th {\n",
       "        vertical-align: top;\n",
       "    }\n",
       "\n",
       "    .dataframe thead th {\n",
       "        text-align: right;\n",
       "    }\n",
       "</style>\n",
       "<table class=\"dataframe\">\n",
       "  <thead>\n",
       "    <tr style=\"text-align: right;\">\n",
       "      <th></th>\n",
       "      <th>age</th>\n",
       "      <th>sex</th>\n",
       "      <th>cp</th>\n",
       "      <th>trestbps</th>\n",
       "      <th>chol</th>\n",
       "      <th>fbs</th>\n",
       "      <th>restecg</th>\n",
       "      <th>thalach</th>\n",
       "      <th>exang</th>\n",
       "      <th>oldpeak</th>\n",
       "      <th>slope</th>\n",
       "      <th>ca</th>\n",
       "      <th>thal</th>\n",
       "      <th>target</th>\n",
       "    </tr>\n",
       "  </thead>\n",
       "  <tbody>\n",
       "    <tr>\n",
       "      <th>298</th>\n",
       "      <td>57</td>\n",
       "      <td>0</td>\n",
       "      <td>0</td>\n",
       "      <td>140</td>\n",
       "      <td>241</td>\n",
       "      <td>0</td>\n",
       "      <td>1</td>\n",
       "      <td>123</td>\n",
       "      <td>1</td>\n",
       "      <td>0.2</td>\n",
       "      <td>1</td>\n",
       "      <td>0</td>\n",
       "      <td>3</td>\n",
       "      <td>0</td>\n",
       "    </tr>\n",
       "    <tr>\n",
       "      <th>299</th>\n",
       "      <td>45</td>\n",
       "      <td>1</td>\n",
       "      <td>3</td>\n",
       "      <td>110</td>\n",
       "      <td>264</td>\n",
       "      <td>0</td>\n",
       "      <td>1</td>\n",
       "      <td>132</td>\n",
       "      <td>0</td>\n",
       "      <td>1.2</td>\n",
       "      <td>1</td>\n",
       "      <td>0</td>\n",
       "      <td>3</td>\n",
       "      <td>0</td>\n",
       "    </tr>\n",
       "    <tr>\n",
       "      <th>300</th>\n",
       "      <td>68</td>\n",
       "      <td>1</td>\n",
       "      <td>0</td>\n",
       "      <td>144</td>\n",
       "      <td>193</td>\n",
       "      <td>1</td>\n",
       "      <td>1</td>\n",
       "      <td>141</td>\n",
       "      <td>0</td>\n",
       "      <td>3.4</td>\n",
       "      <td>1</td>\n",
       "      <td>2</td>\n",
       "      <td>3</td>\n",
       "      <td>0</td>\n",
       "    </tr>\n",
       "    <tr>\n",
       "      <th>301</th>\n",
       "      <td>57</td>\n",
       "      <td>1</td>\n",
       "      <td>0</td>\n",
       "      <td>130</td>\n",
       "      <td>131</td>\n",
       "      <td>0</td>\n",
       "      <td>1</td>\n",
       "      <td>115</td>\n",
       "      <td>1</td>\n",
       "      <td>1.2</td>\n",
       "      <td>1</td>\n",
       "      <td>1</td>\n",
       "      <td>3</td>\n",
       "      <td>0</td>\n",
       "    </tr>\n",
       "    <tr>\n",
       "      <th>302</th>\n",
       "      <td>57</td>\n",
       "      <td>0</td>\n",
       "      <td>1</td>\n",
       "      <td>130</td>\n",
       "      <td>236</td>\n",
       "      <td>0</td>\n",
       "      <td>0</td>\n",
       "      <td>174</td>\n",
       "      <td>0</td>\n",
       "      <td>0.0</td>\n",
       "      <td>1</td>\n",
       "      <td>1</td>\n",
       "      <td>2</td>\n",
       "      <td>0</td>\n",
       "    </tr>\n",
       "  </tbody>\n",
       "</table>\n",
       "</div>"
      ],
      "text/plain": [
       "     age  sex  cp  trestbps  chol  fbs  restecg  thalach  exang  oldpeak  \\\n",
       "298   57    0   0       140   241    0        1      123      1      0.2   \n",
       "299   45    1   3       110   264    0        1      132      0      1.2   \n",
       "300   68    1   0       144   193    1        1      141      0      3.4   \n",
       "301   57    1   0       130   131    0        1      115      1      1.2   \n",
       "302   57    0   1       130   236    0        0      174      0      0.0   \n",
       "\n",
       "     slope  ca  thal  target  \n",
       "298      1   0     3       0  \n",
       "299      1   0     3       0  \n",
       "300      1   2     3       0  \n",
       "301      1   1     3       0  \n",
       "302      1   1     2       0  "
      ]
     },
     "execution_count": 7,
     "metadata": {},
     "output_type": "execute_result"
    }
   ],
   "source": [
    "data.tail()"
   ]
  },
  {
   "cell_type": "code",
   "execution_count": 8,
   "metadata": {},
   "outputs": [
    {
     "data": {
      "text/html": [
       "<div>\n",
       "<style>\n",
       "    .dataframe tbody tr th:only-of-type {\n",
       "        vertical-align: middle;\n",
       "    }\n",
       "\n",
       "    .dataframe tbody tr th {\n",
       "        vertical-align: top;\n",
       "    }\n",
       "\n",
       "    .dataframe thead th {\n",
       "        text-align: right;\n",
       "    }\n",
       "</style>\n",
       "<table class=\"dataframe\">\n",
       "  <thead>\n",
       "    <tr style=\"text-align: right;\">\n",
       "      <th></th>\n",
       "      <th>age</th>\n",
       "      <th>sex</th>\n",
       "      <th>cp</th>\n",
       "      <th>trestbps</th>\n",
       "      <th>chol</th>\n",
       "      <th>fbs</th>\n",
       "      <th>restecg</th>\n",
       "      <th>thalach</th>\n",
       "      <th>exang</th>\n",
       "      <th>oldpeak</th>\n",
       "      <th>slope</th>\n",
       "      <th>ca</th>\n",
       "      <th>thal</th>\n",
       "      <th>target</th>\n",
       "    </tr>\n",
       "  </thead>\n",
       "  <tbody>\n",
       "    <tr>\n",
       "      <th>count</th>\n",
       "      <td>303.000000</td>\n",
       "      <td>303.000000</td>\n",
       "      <td>303.000000</td>\n",
       "      <td>303.000000</td>\n",
       "      <td>303.000000</td>\n",
       "      <td>303.000000</td>\n",
       "      <td>303.000000</td>\n",
       "      <td>303.000000</td>\n",
       "      <td>303.000000</td>\n",
       "      <td>303.000000</td>\n",
       "      <td>303.000000</td>\n",
       "      <td>303.000000</td>\n",
       "      <td>303.000000</td>\n",
       "      <td>303.000000</td>\n",
       "    </tr>\n",
       "    <tr>\n",
       "      <th>mean</th>\n",
       "      <td>54.366337</td>\n",
       "      <td>0.683168</td>\n",
       "      <td>0.966997</td>\n",
       "      <td>131.623762</td>\n",
       "      <td>246.264026</td>\n",
       "      <td>0.148515</td>\n",
       "      <td>0.528053</td>\n",
       "      <td>149.646865</td>\n",
       "      <td>0.326733</td>\n",
       "      <td>1.039604</td>\n",
       "      <td>1.399340</td>\n",
       "      <td>0.729373</td>\n",
       "      <td>2.313531</td>\n",
       "      <td>0.544554</td>\n",
       "    </tr>\n",
       "    <tr>\n",
       "      <th>std</th>\n",
       "      <td>9.082101</td>\n",
       "      <td>0.466011</td>\n",
       "      <td>1.032052</td>\n",
       "      <td>17.538143</td>\n",
       "      <td>51.830751</td>\n",
       "      <td>0.356198</td>\n",
       "      <td>0.525860</td>\n",
       "      <td>22.905161</td>\n",
       "      <td>0.469794</td>\n",
       "      <td>1.161075</td>\n",
       "      <td>0.616226</td>\n",
       "      <td>1.022606</td>\n",
       "      <td>0.612277</td>\n",
       "      <td>0.498835</td>\n",
       "    </tr>\n",
       "    <tr>\n",
       "      <th>min</th>\n",
       "      <td>29.000000</td>\n",
       "      <td>0.000000</td>\n",
       "      <td>0.000000</td>\n",
       "      <td>94.000000</td>\n",
       "      <td>126.000000</td>\n",
       "      <td>0.000000</td>\n",
       "      <td>0.000000</td>\n",
       "      <td>71.000000</td>\n",
       "      <td>0.000000</td>\n",
       "      <td>0.000000</td>\n",
       "      <td>0.000000</td>\n",
       "      <td>0.000000</td>\n",
       "      <td>0.000000</td>\n",
       "      <td>0.000000</td>\n",
       "    </tr>\n",
       "    <tr>\n",
       "      <th>25%</th>\n",
       "      <td>47.500000</td>\n",
       "      <td>0.000000</td>\n",
       "      <td>0.000000</td>\n",
       "      <td>120.000000</td>\n",
       "      <td>211.000000</td>\n",
       "      <td>0.000000</td>\n",
       "      <td>0.000000</td>\n",
       "      <td>133.500000</td>\n",
       "      <td>0.000000</td>\n",
       "      <td>0.000000</td>\n",
       "      <td>1.000000</td>\n",
       "      <td>0.000000</td>\n",
       "      <td>2.000000</td>\n",
       "      <td>0.000000</td>\n",
       "    </tr>\n",
       "    <tr>\n",
       "      <th>50%</th>\n",
       "      <td>55.000000</td>\n",
       "      <td>1.000000</td>\n",
       "      <td>1.000000</td>\n",
       "      <td>130.000000</td>\n",
       "      <td>240.000000</td>\n",
       "      <td>0.000000</td>\n",
       "      <td>1.000000</td>\n",
       "      <td>153.000000</td>\n",
       "      <td>0.000000</td>\n",
       "      <td>0.800000</td>\n",
       "      <td>1.000000</td>\n",
       "      <td>0.000000</td>\n",
       "      <td>2.000000</td>\n",
       "      <td>1.000000</td>\n",
       "    </tr>\n",
       "    <tr>\n",
       "      <th>75%</th>\n",
       "      <td>61.000000</td>\n",
       "      <td>1.000000</td>\n",
       "      <td>2.000000</td>\n",
       "      <td>140.000000</td>\n",
       "      <td>274.500000</td>\n",
       "      <td>0.000000</td>\n",
       "      <td>1.000000</td>\n",
       "      <td>166.000000</td>\n",
       "      <td>1.000000</td>\n",
       "      <td>1.600000</td>\n",
       "      <td>2.000000</td>\n",
       "      <td>1.000000</td>\n",
       "      <td>3.000000</td>\n",
       "      <td>1.000000</td>\n",
       "    </tr>\n",
       "    <tr>\n",
       "      <th>max</th>\n",
       "      <td>77.000000</td>\n",
       "      <td>1.000000</td>\n",
       "      <td>3.000000</td>\n",
       "      <td>200.000000</td>\n",
       "      <td>564.000000</td>\n",
       "      <td>1.000000</td>\n",
       "      <td>2.000000</td>\n",
       "      <td>202.000000</td>\n",
       "      <td>1.000000</td>\n",
       "      <td>6.200000</td>\n",
       "      <td>2.000000</td>\n",
       "      <td>4.000000</td>\n",
       "      <td>3.000000</td>\n",
       "      <td>1.000000</td>\n",
       "    </tr>\n",
       "  </tbody>\n",
       "</table>\n",
       "</div>"
      ],
      "text/plain": [
       "              age         sex          cp    trestbps        chol         fbs  \\\n",
       "count  303.000000  303.000000  303.000000  303.000000  303.000000  303.000000   \n",
       "mean    54.366337    0.683168    0.966997  131.623762  246.264026    0.148515   \n",
       "std      9.082101    0.466011    1.032052   17.538143   51.830751    0.356198   \n",
       "min     29.000000    0.000000    0.000000   94.000000  126.000000    0.000000   \n",
       "25%     47.500000    0.000000    0.000000  120.000000  211.000000    0.000000   \n",
       "50%     55.000000    1.000000    1.000000  130.000000  240.000000    0.000000   \n",
       "75%     61.000000    1.000000    2.000000  140.000000  274.500000    0.000000   \n",
       "max     77.000000    1.000000    3.000000  200.000000  564.000000    1.000000   \n",
       "\n",
       "          restecg     thalach       exang     oldpeak       slope          ca  \\\n",
       "count  303.000000  303.000000  303.000000  303.000000  303.000000  303.000000   \n",
       "mean     0.528053  149.646865    0.326733    1.039604    1.399340    0.729373   \n",
       "std      0.525860   22.905161    0.469794    1.161075    0.616226    1.022606   \n",
       "min      0.000000   71.000000    0.000000    0.000000    0.000000    0.000000   \n",
       "25%      0.000000  133.500000    0.000000    0.000000    1.000000    0.000000   \n",
       "50%      1.000000  153.000000    0.000000    0.800000    1.000000    0.000000   \n",
       "75%      1.000000  166.000000    1.000000    1.600000    2.000000    1.000000   \n",
       "max      2.000000  202.000000    1.000000    6.200000    2.000000    4.000000   \n",
       "\n",
       "             thal      target  \n",
       "count  303.000000  303.000000  \n",
       "mean     2.313531    0.544554  \n",
       "std      0.612277    0.498835  \n",
       "min      0.000000    0.000000  \n",
       "25%      2.000000    0.000000  \n",
       "50%      2.000000    1.000000  \n",
       "75%      3.000000    1.000000  \n",
       "max      3.000000    1.000000  "
      ]
     },
     "execution_count": 8,
     "metadata": {},
     "output_type": "execute_result"
    }
   ],
   "source": [
    "data.describe()"
   ]
  },
  {
   "cell_type": "code",
   "execution_count": 9,
   "metadata": {},
   "outputs": [
    {
     "name": "stdout",
     "output_type": "stream",
     "text": [
      "<class 'pandas.core.frame.DataFrame'>\n",
      "RangeIndex: 303 entries, 0 to 302\n",
      "Data columns (total 14 columns):\n",
      "age         303 non-null int64\n",
      "sex         303 non-null int64\n",
      "cp          303 non-null int64\n",
      "trestbps    303 non-null int64\n",
      "chol        303 non-null int64\n",
      "fbs         303 non-null int64\n",
      "restecg     303 non-null int64\n",
      "thalach     303 non-null int64\n",
      "exang       303 non-null int64\n",
      "oldpeak     303 non-null float64\n",
      "slope       303 non-null int64\n",
      "ca          303 non-null int64\n",
      "thal        303 non-null int64\n",
      "target      303 non-null int64\n",
      "dtypes: float64(1), int64(13)\n",
      "memory usage: 33.2 KB\n"
     ]
    }
   ],
   "source": [
    "data.info()"
   ]
  },
  {
   "cell_type": "code",
   "execution_count": 10,
   "metadata": {},
   "outputs": [
    {
     "name": "stdout",
     "output_type": "stream",
     "text": [
      "1    165\n",
      "0    138\n",
      "Name: target, dtype: int64\n",
      "Percentuálne, bez srdcových ochorení: 45.54\n",
      "Percentuálne, so srdcovými ochoreniami: 54.46\n"
     ]
    },
    {
     "data": {
      "text/plain": [
       "<matplotlib.axes._subplots.AxesSubplot at 0x7f2c9cfac240>"
      ]
     },
     "execution_count": 10,
     "metadata": {},
     "output_type": "execute_result"
    },
    {
     "data": {
      "image/png": "[encoded data removed]",
      "text/plain": [
       "<Figure size 432x288 with 1 Axes>"
      ]
     },
     "metadata": {
      "needs_background": "light"
     },
     "output_type": "display_data"
    }
   ],
   "source": [
    "targetPom = data.target.value_counts()\n",
    "print(targetPom)\n",
    "print(\"Percentuálne, bez srdcových ochorení: \"+str(round(targetPom[0]*100/303,2)))\n",
    "print(\"Percentuálne, so srdcovými ochoreniami: \"+str(round(targetPom[1]*100/303,2)))\n",
    "y = data[\"target\"]\n",
    "\n",
    "sns.countplot(y)"
   ]
  },
  {
   "cell_type": "code",
   "execution_count": 11,
   "metadata": {},
   "outputs": [
    {
     "name": "stderr",
     "output_type": "stream",
     "text": [
      "/home/nbuser/anaconda3_501/lib/python3.6/site-packages/scipy/stats/stats.py:1713: FutureWarning:\n",
      "\n",
      "Using a non-tuple sequence for multidimensional indexing is deprecated; use `arr[tuple(seq)]` instead of `arr[seq]`. In the future this will be interpreted as an array index, `arr[np.array(seq)]`, which will result either in an error or a different result.\n",
      "\n"
     ]
    },
    {
     "data": {
      "text/plain": [
       "<matplotlib.axes._subplots.AxesSubplot at 0x7f2c9cf32860>"
      ]
     },
     "execution_count": 11,
     "metadata": {},
     "output_type": "execute_result"
    },
    {
     "data": {
      "image/png": "[encoded data removed]",
      "text/plain": [
       "<Figure size 432x288 with 1 Axes>"
      ]
     },
     "metadata": {
      "needs_background": "light"
     },
     "output_type": "display_data"
    }
   ],
   "source": [
    "sns.barplot(data[\"cp\"],y)"
   ]
  },
  {
   "cell_type": "code",
   "execution_count": 12,
   "metadata": {},
   "outputs": [
    {
     "data": {
      "image/png": "[encoded data removed]",
      "text/plain": [
       "<Figure size 432x288 with 1 Axes>"
      ]
     },
     "metadata": {
      "needs_background": "light"
     },
     "output_type": "display_data"
    }
   ],
   "source": [
    "plt.scatter(A.chol,A.age,color = \"Black\",label=\"1\",alpha=0.4)\n",
    "plt.scatter(B.chol,B.age,color = \"Orange\",label=\"0\",alpha=0.4)\n",
    "plt.xlabel(\"Cholesterol\")\n",
    "plt.ylabel(\"Age\")\n",
    "plt.legend()\n",
    "plt.show()"
   ]
  },
  {
   "cell_type": "code",
   "execution_count": 13,
   "metadata": {},
   "outputs": [
    {
     "data": {
      "image/png": "[encoded data removed]",
      "text/plain": [
       "<Figure size 432x288 with 1 Axes>"
      ]
     },
     "metadata": {
      "needs_background": "light"
     },
     "output_type": "display_data"
    }
   ],
   "source": [
    "plt.scatter(A.trestbps,A.age,color = \"Black\",label=\" 1\",alpha=0.3)\n",
    "plt.scatter(B.trestbps,B.age,color = \"Lime\",label=\"0\",alpha=0.3)\n",
    "plt.xlabel(\"Resting Blood Pressure \")\n",
    "plt.ylabel(\"Age\")\n",
    "plt.legend()\n",
    "plt.show()"
   ]
  },
  {
   "cell_type": "code",
   "execution_count": 14,
   "metadata": {},
   "outputs": [
    {
     "data": {
      "image/png": "[encoded data removed]",
      "text/plain": [
       "<Figure size 432x288 with 1 Axes>"
      ]
     },
     "metadata": {
      "needs_background": "light"
     },
     "output_type": "display_data"
    }
   ],
   "source": [
    "plt.scatter(A.trestbps,A.chol,color = \"Black\",label=\"1\",alpha=0.3)\n",
    "plt.scatter(B.trestbps,B.chol,color = \"red\",label=\"0\",alpha=0.3)\n",
    "plt.xlabel(\"Resting Blood Pressure \")\n",
    "plt.ylabel(\"Cholesterol\")\n",
    "plt.legend()\n",
    "plt.show()"
   ]
  },
  {
   "cell_type": "code",
   "execution_count": 15,
   "metadata": {},
   "outputs": [
    {
     "data": {
      "image/png": "[encoded data removed]",
      "text/plain": [
       "<Figure size 432x288 with 1 Axes>"
      ]
     },
     "metadata": {
      "needs_background": "light"
     },
     "output_type": "display_data"
    }
   ],
   "source": [
    "sns.distplot(data['target'],rug=True)\n",
    "plt.show()"
   ]
  },
  {
   "cell_type": "code",
   "execution_count": 16,
   "metadata": {},
   "outputs": [
    {
     "data": {
      "image/png": "[encoded data removed]",
      "text/plain": [
       "<Figure size 1800x576 with 1 Axes>"
      ]
     },
     "metadata": {
      "needs_background": "light"
     },
     "output_type": "display_data"
    }
   ],
   "source": [
    "pd.crosstab(data.age,data.target).plot(kind=\"bar\",figsize=(25,8),color=['green','brown' ])\n",
    "plt.title('Pomer chorôb k veku')\n",
    "plt.xlabel('Vek')\n",
    "plt.ylabel('frekvencia')\n",
    "plt.show()"
   ]
  },
  {
   "cell_type": "code",
   "execution_count": 17,
   "metadata": {},
   "outputs": [
    {
     "data": {
      "image/png": "[encoded data removed]",
      "text/plain": [
       "<Figure size 720x360 with 1 Axes>"
      ]
     },
     "metadata": {
      "needs_background": "light"
     },
     "output_type": "display_data"
    }
   ],
   "source": [
    "pd.crosstab(data.sex,data.target).plot(kind=\"bar\",figsize=(10,5),color=['cyan','coral' ])\n",
    "plt.xlabel('Pohlavie (0 = žena, 1 = muž)')\n",
    "plt.xticks(rotation=0)\n",
    "plt.legend([\"Zdravý\", \"Chorý\"])\n",
    "plt.ylabel('frekvencia')\n",
    "plt.show()"
   ]
  },
  {
   "cell_type": "code",
   "execution_count": 18,
   "metadata": {},
   "outputs": [
    {
     "data": {
      "image/png": "[encoded data removed]",
      "text/plain": [
       "<Figure size 720x360 with 1 Axes>"
      ]
     },
     "metadata": {
      "needs_background": "light"
     },
     "output_type": "display_data"
    }
   ],
   "source": [
    "pd.crosstab(data.cp,data.target).plot(kind=\"bar\",figsize=(10,5),color=['tomato','indigo' ])\n",
    "plt.xlabel('bolesť hrudníka')\n",
    "plt.xticks(rotation = 0)\n",
    "plt.ylabel('chorý / zdravý')\n",
    "plt.show()"
   ]
  },
  {
   "cell_type": "code",
   "execution_count": 19,
   "metadata": {},
   "outputs": [
    {
     "data": {
      "image/png": "[encoded data removed]",
      "text/plain": [
       "<Figure size 1152x576 with 4 Axes>"
      ]
     },
     "metadata": {
      "needs_background": "light"
     },
     "output_type": "display_data"
    }
   ],
   "source": [
    "plt.figure(figsize=(16,8))\n",
    "plt.subplot(2,2,1)\n",
    "plt.scatter(x=data.age[data.target==1],y=data.thalach[data.target==1],c='blue')\n",
    "plt.scatter(x=data.age[data.target==0],y=data.thalach[data.target==0],c='black')\n",
    "plt.xlabel('Vek')\n",
    "plt.ylabel('Frekvencia srdca')\n",
    "plt.legend(['Chorý','Zdravý'])\n",
    "\n",
    "plt.subplot(2,2,2)\n",
    "plt.scatter(x=data.age[data.target==1],y=data.chol[data.target==1],c='red')\n",
    "plt.scatter(x=data.age[data.target==0],y=data.chol[data.target==0],c='green')\n",
    "plt.xlabel('Vek')\n",
    "plt.ylabel('Cholesterol')\n",
    "plt.legend(['Chorý','Zdravý'])\n",
    "\n",
    "plt.subplot(2,2,3)\n",
    "plt.scatter(x=data.age[data.target==1],y=data.trestbps[data.target==1],c='cyan')\n",
    "plt.scatter(x=data.age[data.target==0],y=data.trestbps[data.target==0],c='fuchsia')\n",
    "plt.xlabel('Vek')\n",
    "plt.ylabel('Krvý tlak v pokoji')\n",
    "plt.legend(['Chorý','Zdravý'])\n",
    "\n",
    "plt.subplot(2,2,4)\n",
    "plt.scatter(x=data.age[data.target==1],y=data.oldpeak[data.target==1],c='grey')\n",
    "plt.scatter(x=data.age[data.target==0],y=data.oldpeak[data.target==0],c='navy')\n",
    "plt.xlabel('Vek')\n",
    "plt.ylabel('Depresia')\n",
    "plt.legend(['Chorý','Zdravý'])\n",
    "plt.show()\n"
   ]
  },
  {
   "cell_type": "code",
   "execution_count": 20,
   "metadata": {},
   "outputs": [],
   "source": [
    "df = data"
   ]
  },
  {
   "cell_type": "code",
   "execution_count": 21,
   "metadata": {},
   "outputs": [],
   "source": [
    "chest_pain=pd.get_dummies(df['cp'],prefix='cp',drop_first=True)\n",
    "df=pd.concat([df,chest_pain],axis=1)\n",
    "df.drop(['cp'],axis=1,inplace=True)\n",
    "sp=pd.get_dummies(df['slope'],prefix='slope')\n",
    "th=pd.get_dummies(df['thal'],prefix='thal')\n",
    "frames=[df,sp,th]\n",
    "df=pd.concat(frames,axis=1)\n",
    "df.drop(['slope','thal'],axis=1,inplace=True)"
   ]
  },
  {
   "cell_type": "code",
   "execution_count": 22,
   "metadata": {},
   "outputs": [
    {
     "data": {
      "text/html": [
       "<div>\n",
       "<style>\n",
       "    .dataframe tbody tr th:only-of-type {\n",
       "        vertical-align: middle;\n",
       "    }\n",
       "\n",
       "    .dataframe tbody tr th {\n",
       "        vertical-align: top;\n",
       "    }\n",
       "\n",
       "    .dataframe thead th {\n",
       "        text-align: right;\n",
       "    }\n",
       "</style>\n",
       "<table class=\"dataframe\">\n",
       "  <thead>\n",
       "    <tr style=\"text-align: right;\">\n",
       "      <th></th>\n",
       "      <th>age</th>\n",
       "      <th>sex</th>\n",
       "      <th>trestbps</th>\n",
       "      <th>chol</th>\n",
       "      <th>fbs</th>\n",
       "      <th>restecg</th>\n",
       "      <th>thalach</th>\n",
       "      <th>exang</th>\n",
       "      <th>oldpeak</th>\n",
       "      <th>ca</th>\n",
       "      <th>...</th>\n",
       "      <th>cp_1</th>\n",
       "      <th>cp_2</th>\n",
       "      <th>cp_3</th>\n",
       "      <th>slope_0</th>\n",
       "      <th>slope_1</th>\n",
       "      <th>slope_2</th>\n",
       "      <th>thal_0</th>\n",
       "      <th>thal_1</th>\n",
       "      <th>thal_2</th>\n",
       "      <th>thal_3</th>\n",
       "    </tr>\n",
       "  </thead>\n",
       "  <tbody>\n",
       "    <tr>\n",
       "      <th>0</th>\n",
       "      <td>63</td>\n",
       "      <td>1</td>\n",
       "      <td>145</td>\n",
       "      <td>233</td>\n",
       "      <td>1</td>\n",
       "      <td>0</td>\n",
       "      <td>150</td>\n",
       "      <td>0</td>\n",
       "      <td>2.3</td>\n",
       "      <td>0</td>\n",
       "      <td>...</td>\n",
       "      <td>0</td>\n",
       "      <td>0</td>\n",
       "      <td>1</td>\n",
       "      <td>1</td>\n",
       "      <td>0</td>\n",
       "      <td>0</td>\n",
       "      <td>0</td>\n",
       "      <td>1</td>\n",
       "      <td>0</td>\n",
       "      <td>0</td>\n",
       "    </tr>\n",
       "    <tr>\n",
       "      <th>1</th>\n",
       "      <td>37</td>\n",
       "      <td>1</td>\n",
       "      <td>130</td>\n",
       "      <td>250</td>\n",
       "      <td>0</td>\n",
       "      <td>1</td>\n",
       "      <td>187</td>\n",
       "      <td>0</td>\n",
       "      <td>3.5</td>\n",
       "      <td>0</td>\n",
       "      <td>...</td>\n",
       "      <td>0</td>\n",
       "      <td>1</td>\n",
       "      <td>0</td>\n",
       "      <td>1</td>\n",
       "      <td>0</td>\n",
       "      <td>0</td>\n",
       "      <td>0</td>\n",
       "      <td>0</td>\n",
       "      <td>1</td>\n",
       "      <td>0</td>\n",
       "    </tr>\n",
       "    <tr>\n",
       "      <th>2</th>\n",
       "      <td>41</td>\n",
       "      <td>0</td>\n",
       "      <td>130</td>\n",
       "      <td>204</td>\n",
       "      <td>0</td>\n",
       "      <td>0</td>\n",
       "      <td>172</td>\n",
       "      <td>0</td>\n",
       "      <td>1.4</td>\n",
       "      <td>0</td>\n",
       "      <td>...</td>\n",
       "      <td>1</td>\n",
       "      <td>0</td>\n",
       "      <td>0</td>\n",
       "      <td>0</td>\n",
       "      <td>0</td>\n",
       "      <td>1</td>\n",
       "      <td>0</td>\n",
       "      <td>0</td>\n",
       "      <td>1</td>\n",
       "      <td>0</td>\n",
       "    </tr>\n",
       "    <tr>\n",
       "      <th>3</th>\n",
       "      <td>56</td>\n",
       "      <td>1</td>\n",
       "      <td>120</td>\n",
       "      <td>236</td>\n",
       "      <td>0</td>\n",
       "      <td>1</td>\n",
       "      <td>178</td>\n",
       "      <td>0</td>\n",
       "      <td>0.8</td>\n",
       "      <td>0</td>\n",
       "      <td>...</td>\n",
       "      <td>1</td>\n",
       "      <td>0</td>\n",
       "      <td>0</td>\n",
       "      <td>0</td>\n",
       "      <td>0</td>\n",
       "      <td>1</td>\n",
       "      <td>0</td>\n",
       "      <td>0</td>\n",
       "      <td>1</td>\n",
       "      <td>0</td>\n",
       "    </tr>\n",
       "    <tr>\n",
       "      <th>4</th>\n",
       "      <td>57</td>\n",
       "      <td>0</td>\n",
       "      <td>120</td>\n",
       "      <td>354</td>\n",
       "      <td>0</td>\n",
       "      <td>1</td>\n",
       "      <td>163</td>\n",
       "      <td>1</td>\n",
       "      <td>0.6</td>\n",
       "      <td>0</td>\n",
       "      <td>...</td>\n",
       "      <td>0</td>\n",
       "      <td>0</td>\n",
       "      <td>0</td>\n",
       "      <td>0</td>\n",
       "      <td>0</td>\n",
       "      <td>1</td>\n",
       "      <td>0</td>\n",
       "      <td>0</td>\n",
       "      <td>1</td>\n",
       "      <td>0</td>\n",
       "    </tr>\n",
       "  </tbody>\n",
       "</table>\n",
       "<p>5 rows × 21 columns</p>\n",
       "</div>"
      ],
      "text/plain": [
       "   age  sex  trestbps  chol  fbs  restecg  thalach  exang  oldpeak  ca  \\\n",
       "0   63    1       145   233    1        0      150      0      2.3   0   \n",
       "1   37    1       130   250    0        1      187      0      3.5   0   \n",
       "2   41    0       130   204    0        0      172      0      1.4   0   \n",
       "3   56    1       120   236    0        1      178      0      0.8   0   \n",
       "4   57    0       120   354    0        1      163      1      0.6   0   \n",
       "\n",
       "    ...    cp_1  cp_2  cp_3  slope_0  slope_1  slope_2  thal_0  thal_1  \\\n",
       "0   ...       0     0     1        1        0        0       0       1   \n",
       "1   ...       0     1     0        1        0        0       0       0   \n",
       "2   ...       1     0     0        0        0        1       0       0   \n",
       "3   ...       1     0     0        0        0        1       0       0   \n",
       "4   ...       0     0     0        0        0        1       0       0   \n",
       "\n",
       "   thal_2  thal_3  \n",
       "0       0       0  \n",
       "1       1       0  \n",
       "2       1       0  \n",
       "3       1       0  \n",
       "4       1       0  \n",
       "\n",
       "[5 rows x 21 columns]"
      ]
     },
     "execution_count": 22,
     "metadata": {},
     "output_type": "execute_result"
    }
   ],
   "source": [
    "df.head()"
   ]
  },
  {
   "cell_type": "code",
   "execution_count": 23,
   "metadata": {},
   "outputs": [
    {
     "data": {
      "text/plain": [
       "(303, 21)"
      ]
     },
     "execution_count": 23,
     "metadata": {},
     "output_type": "execute_result"
    }
   ],
   "source": [
    "df.shape"
   ]
  },
  {
   "cell_type": "code",
   "execution_count": 57,
   "metadata": {},
   "outputs": [],
   "source": [
    "dataset = pd.read_csv('heart.csv')"
   ]
  },
  {
   "cell_type": "code",
   "execution_count": 58,
   "metadata": {},
   "outputs": [],
   "source": [
    "X_train = dataset.iloc[0:240,0:13].values\n",
    "Y_train = dataset.iloc[0:240,13].values"
   ]
  },
  {
   "cell_type": "code",
   "execution_count": 59,
   "metadata": {},
   "outputs": [],
   "source": [
    "from keras.models import Sequential\n",
    "from keras.layers import Dense"
   ]
  },
  {
   "cell_type": "code",
   "execution_count": 25,
   "metadata": {},
   "outputs": [],
   "source": [
    "X = df.drop(['target'], axis = 1)\n",
    "y = df.target.values"
   ]
  },
  {
   "cell_type": "code",
   "execution_count": 26,
   "metadata": {},
   "outputs": [],
   "source": [
    "from sklearn.model_selection import train_test_split\n",
    "\n",
    "X_train,X_test,Y_train,Y_test = train_test_split(X, y, test_size = 0.2, random_state=0)"
   ]
  },
  {
   "cell_type": "code",
   "execution_count": 60,
   "metadata": {},
   "outputs": [
    {
     "data": {
      "text/plain": [
       "(240, 13)"
      ]
     },
     "execution_count": 60,
     "metadata": {},
     "output_type": "execute_result"
    }
   ],
   "source": [
    "X_train.shape"
   ]
  },
  {
   "cell_type": "code",
   "execution_count": 28,
   "metadata": {},
   "outputs": [
    {
     "data": {
      "text/plain": [
       "(61, 20)"
      ]
     },
     "execution_count": 28,
     "metadata": {},
     "output_type": "execute_result"
    }
   ],
   "source": [
    "X_test.shape"
   ]
  },
  {
   "cell_type": "code",
   "execution_count": 61,
   "metadata": {},
   "outputs": [
    {
     "data": {
      "text/plain": [
       "(240,)"
      ]
     },
     "execution_count": 61,
     "metadata": {},
     "output_type": "execute_result"
    }
   ],
   "source": [
    "Y_train.shape"
   ]
  },
  {
   "cell_type": "code",
   "execution_count": 30,
   "metadata": {},
   "outputs": [
    {
     "data": {
      "text/plain": [
       "(61,)"
      ]
     },
     "execution_count": 30,
     "metadata": {},
     "output_type": "execute_result"
    }
   ],
   "source": [
    "Y_test.shape"
   ]
  },
  {
   "cell_type": "code",
   "execution_count": 31,
   "metadata": {},
   "outputs": [
    {
     "data": {
      "text/plain": [
       "array([0, 1, 0, 0, 1, 0, 0, 0, 0, 0, 1, 1, 0, 1, 1, 1, 1, 1, 0, 1, 1, 0,\n",
       "       0, 0, 1, 0, 0, 0, 1, 1, 0, 0, 1, 1, 1, 0, 0, 1, 0, 0, 1, 1, 1, 0,\n",
       "       1, 1, 1, 0, 0, 1, 1, 1, 1, 1, 1, 0, 1, 0, 1, 1, 1])"
      ]
     },
     "execution_count": 31,
     "metadata": {},
     "output_type": "execute_result"
    }
   ],
   "source": [
    "Y_test"
   ]
  },
  {
   "cell_type": "code",
   "execution_count": 62,
   "metadata": {},
   "outputs": [],
   "source": [
    "model = Sequential()\n",
    "model.add(Dense(30,activation='relu',input_dim=13))\n",
    "model.add(Dense(16,activation='sigmoid'))\n",
    "model.add(Dense(8,activation='relu'))\n",
    "model.add(Dense(1,activation='sigmoid'))\n",
    "\n",
    "model.compile(loss='binary_crossentropy',optimizer='adam',metrics=['accuracy'])"
   ]
  },
  {
   "cell_type": "code",
   "execution_count": 63,
   "metadata": {},
   "outputs": [
    {
     "name": "stdout",
     "output_type": "stream",
     "text": [
      "Train on 192 samples, validate on 48 samples\n",
      "Epoch 1/300\n",
      "192/192 [==============================] - 2s 10ms/step - loss: 0.5807 - accuracy: 0.7500 - val_loss: 1.2014 - val_accuracy: 0.0000e+00\n",
      "Epoch 2/300\n",
      "192/192 [==============================] - 0s 875us/step - loss: 0.4580 - accuracy: 0.8594 - val_loss: 1.4691 - val_accuracy: 0.0000e+00\n",
      "Epoch 3/300\n",
      "192/192 [==============================] - 0s 807us/step - loss: 0.4237 - accuracy: 0.8594 - val_loss: 1.6883 - val_accuracy: 0.0000e+00\n",
      "Epoch 4/300\n",
      "192/192 [==============================] - 0s 890us/step - loss: 0.4140 - accuracy: 0.8594 - val_loss: 1.8652 - val_accuracy: 0.0000e+00\n",
      "Epoch 5/300\n",
      "192/192 [==============================] - 0s 841us/step - loss: 0.4074 - accuracy: 0.8594 - val_loss: 1.9010 - val_accuracy: 0.0000e+00\n",
      "Epoch 6/300\n",
      "192/192 [==============================] - 0s 772us/step - loss: 0.4075 - accuracy: 0.8594 - val_loss: 1.9527 - val_accuracy: 0.0000e+00\n",
      "Epoch 7/300\n",
      "192/192 [==============================] - 0s 723us/step - loss: 0.4089 - accuracy: 0.8594 - val_loss: 2.0255 - val_accuracy: 0.0000e+00\n",
      "Epoch 8/300\n",
      "192/192 [==============================] - 0s 654us/step - loss: 0.4083 - accuracy: 0.8594 - val_loss: 2.0105 - val_accuracy: 0.0000e+00\n",
      "Epoch 9/300\n",
      "192/192 [==============================] - 0s 638us/step - loss: 0.4008 - accuracy: 0.8594 - val_loss: 1.8064 - val_accuracy: 0.0000e+00\n",
      "Epoch 10/300\n",
      "192/192 [==============================] - 0s 767us/step - loss: 0.3974 - accuracy: 0.8594 - val_loss: 1.7506 - val_accuracy: 0.0000e+00\n",
      "Epoch 11/300\n",
      "192/192 [==============================] - 0s 685us/step - loss: 0.3947 - accuracy: 0.8594 - val_loss: 1.7984 - val_accuracy: 0.0000e+00\n",
      "Epoch 12/300\n",
      "192/192 [==============================] - 0s 620us/step - loss: 0.3941 - accuracy: 0.8594 - val_loss: 1.7135 - val_accuracy: 0.0000e+00\n",
      "Epoch 13/300\n",
      "192/192 [==============================] - 0s 704us/step - loss: 0.3968 - accuracy: 0.8594 - val_loss: 1.8695 - val_accuracy: 0.0000e+00\n",
      "Epoch 14/300\n",
      "192/192 [==============================] - 0s 748us/step - loss: 0.3901 - accuracy: 0.8594 - val_loss: 1.9253 - val_accuracy: 0.0000e+00\n",
      "Epoch 15/300\n",
      "192/192 [==============================] - 0s 767us/step - loss: 0.3928 - accuracy: 0.8594 - val_loss: 1.8697 - val_accuracy: 0.0000e+00\n",
      "Epoch 16/300\n",
      "192/192 [==============================] - 0s 595us/step - loss: 0.3898 - accuracy: 0.8594 - val_loss: 1.7816 - val_accuracy: 0.0000e+00\n",
      "Epoch 17/300\n",
      "192/192 [==============================] - 0s 537us/step - loss: 0.3923 - accuracy: 0.8594 - val_loss: 1.8583 - val_accuracy: 0.0000e+00\n",
      "Epoch 18/300\n",
      "192/192 [==============================] - 0s 576us/step - loss: 0.3940 - accuracy: 0.8594 - val_loss: 1.8388 - val_accuracy: 0.0000e+00\n",
      "Epoch 19/300\n",
      "192/192 [==============================] - 0s 562us/step - loss: 0.3883 - accuracy: 0.8594 - val_loss: 1.9015 - val_accuracy: 0.0000e+00\n",
      "Epoch 20/300\n",
      "192/192 [==============================] - 0s 661us/step - loss: 0.3888 - accuracy: 0.8594 - val_loss: 1.8004 - val_accuracy: 0.0000e+00\n",
      "Epoch 21/300\n",
      "192/192 [==============================] - 0s 848us/step - loss: 0.3869 - accuracy: 0.8594 - val_loss: 1.9043 - val_accuracy: 0.0000e+00\n",
      "Epoch 22/300\n",
      "192/192 [==============================] - 0s 510us/step - loss: 0.3887 - accuracy: 0.8594 - val_loss: 1.7636 - val_accuracy: 0.0000e+00\n",
      "Epoch 23/300\n",
      "192/192 [==============================] - 0s 806us/step - loss: 0.3867 - accuracy: 0.8594 - val_loss: 1.9113 - val_accuracy: 0.0000e+00\n",
      "Epoch 24/300\n",
      "192/192 [==============================] - 0s 845us/step - loss: 0.3881 - accuracy: 0.8594 - val_loss: 1.8998 - val_accuracy: 0.0000e+00\n",
      "Epoch 25/300\n",
      "192/192 [==============================] - 0s 702us/step - loss: 0.3938 - accuracy: 0.8594 - val_loss: 1.7558 - val_accuracy: 0.0000e+00\n",
      "Epoch 26/300\n",
      "192/192 [==============================] - 0s 633us/step - loss: 0.3862 - accuracy: 0.8594 - val_loss: 1.9156 - val_accuracy: 0.0000e+00\n",
      "Epoch 27/300\n",
      "192/192 [==============================] - 0s 858us/step - loss: 0.3821 - accuracy: 0.8594 - val_loss: 1.8667 - val_accuracy: 0.0000e+00\n",
      "Epoch 28/300\n",
      "192/192 [==============================] - 0s 764us/step - loss: 0.3856 - accuracy: 0.8594 - val_loss: 1.8987 - val_accuracy: 0.0000e+00\n",
      "Epoch 29/300\n",
      "192/192 [==============================] - 0s 663us/step - loss: 0.3895 - accuracy: 0.8594 - val_loss: 1.7040 - val_accuracy: 0.0000e+00\n",
      "Epoch 30/300\n",
      "192/192 [==============================] - 0s 699us/step - loss: 0.3885 - accuracy: 0.8594 - val_loss: 1.7805 - val_accuracy: 0.0000e+00\n",
      "Epoch 31/300\n",
      "192/192 [==============================] - 0s 529us/step - loss: 0.3822 - accuracy: 0.8594 - val_loss: 1.8498 - val_accuracy: 0.0000e+00\n",
      "Epoch 32/300\n",
      "192/192 [==============================] - 0s 904us/step - loss: 0.3881 - accuracy: 0.8594 - val_loss: 1.7204 - val_accuracy: 0.0000e+00\n",
      "Epoch 33/300\n",
      "192/192 [==============================] - 0s 860us/step - loss: 0.3833 - accuracy: 0.8594 - val_loss: 1.7589 - val_accuracy: 0.0000e+00\n",
      "Epoch 34/300\n",
      "192/192 [==============================] - 0s 645us/step - loss: 0.3790 - accuracy: 0.8594 - val_loss: 1.7926 - val_accuracy: 0.0000e+00\n",
      "Epoch 35/300\n",
      "192/192 [==============================] - 0s 663us/step - loss: 0.3779 - accuracy: 0.8594 - val_loss: 1.8189 - val_accuracy: 0.0000e+00\n",
      "Epoch 36/300\n",
      "192/192 [==============================] - 0s 875us/step - loss: 0.3777 - accuracy: 0.8594 - val_loss: 1.8035 - val_accuracy: 0.0000e+00\n",
      "Epoch 37/300\n",
      "192/192 [==============================] - 0s 868us/step - loss: 0.3745 - accuracy: 0.8594 - val_loss: 1.8027 - val_accuracy: 0.0000e+00\n",
      "Epoch 38/300\n",
      "192/192 [==============================] - 0s 768us/step - loss: 0.3771 - accuracy: 0.8594 - val_loss: 1.7313 - val_accuracy: 0.0000e+00\n",
      "Epoch 39/300\n",
      "192/192 [==============================] - 0s 898us/step - loss: 0.3784 - accuracy: 0.8594 - val_loss: 1.7229 - val_accuracy: 0.0000e+00\n",
      "Epoch 40/300\n",
      "192/192 [==============================] - 0s 973us/step - loss: 0.3837 - accuracy: 0.8594 - val_loss: 1.8576 - val_accuracy: 0.0000e+00\n",
      "Epoch 41/300\n",
      "192/192 [==============================] - 0s 732us/step - loss: 0.3833 - accuracy: 0.8594 - val_loss: 1.6957 - val_accuracy: 0.0000e+00\n",
      "Epoch 42/300\n",
      "192/192 [==============================] - 0s 836us/step - loss: 0.3739 - accuracy: 0.8594 - val_loss: 1.9434 - val_accuracy: 0.0000e+00\n",
      "Epoch 43/300\n",
      "192/192 [==============================] - 0s 802us/step - loss: 0.3760 - accuracy: 0.8594 - val_loss: 1.7282 - val_accuracy: 0.0000e+00\n",
      "Epoch 44/300\n",
      "192/192 [==============================] - 0s 748us/step - loss: 0.3724 - accuracy: 0.8594 - val_loss: 1.7920 - val_accuracy: 0.0000e+00\n",
      "Epoch 45/300\n",
      "192/192 [==============================] - 0s 927us/step - loss: 0.3684 - accuracy: 0.8594 - val_loss: 1.7578 - val_accuracy: 0.0000e+00\n",
      "Epoch 46/300\n",
      "192/192 [==============================] - 0s 644us/step - loss: 0.3698 - accuracy: 0.8594 - val_loss: 1.7973 - val_accuracy: 0.0000e+00\n",
      "Epoch 47/300\n",
      "192/192 [==============================] - 0s 691us/step - loss: 0.3689 - accuracy: 0.8594 - val_loss: 1.7397 - val_accuracy: 0.0000e+00\n",
      "Epoch 48/300\n",
      "192/192 [==============================] - 0s 689us/step - loss: 0.3763 - accuracy: 0.8594 - val_loss: 1.7080 - val_accuracy: 0.0000e+00\n",
      "Epoch 49/300\n",
      "192/192 [==============================] - 0s 838us/step - loss: 0.3707 - accuracy: 0.8594 - val_loss: 1.6539 - val_accuracy: 0.0000e+00\n",
      "Epoch 50/300\n",
      "192/192 [==============================] - 0s 598us/step - loss: 0.3691 - accuracy: 0.8594 - val_loss: 1.6134 - val_accuracy: 0.0000e+00\n",
      "Epoch 51/300\n",
      "192/192 [==============================] - 0s 532us/step - loss: 0.3641 - accuracy: 0.8594 - val_loss: 1.7920 - val_accuracy: 0.0000e+00\n",
      "Epoch 52/300\n",
      "192/192 [==============================] - 0s 574us/step - loss: 0.3694 - accuracy: 0.8594 - val_loss: 1.8261 - val_accuracy: 0.0000e+00\n",
      "Epoch 53/300\n",
      "192/192 [==============================] - 0s 501us/step - loss: 0.3653 - accuracy: 0.8594 - val_loss: 1.6069 - val_accuracy: 0.0000e+00\n",
      "Epoch 54/300\n",
      "192/192 [==============================] - 0s 822us/step - loss: 0.3650 - accuracy: 0.8594 - val_loss: 1.5992 - val_accuracy: 0.0000e+00\n",
      "Epoch 55/300\n",
      "192/192 [==============================] - 0s 666us/step - loss: 0.3637 - accuracy: 0.8594 - val_loss: 1.6971 - val_accuracy: 0.0000e+00\n",
      "Epoch 56/300\n",
      "192/192 [==============================] - 0s 823us/step - loss: 0.3581 - accuracy: 0.8594 - val_loss: 1.6957 - val_accuracy: 0.0000e+00\n",
      "Epoch 57/300\n",
      "192/192 [==============================] - 0s 629us/step - loss: 0.3586 - accuracy: 0.8594 - val_loss: 1.6583 - val_accuracy: 0.0000e+00\n",
      "Epoch 58/300\n",
      "192/192 [==============================] - 0s 721us/step - loss: 0.3640 - accuracy: 0.8594 - val_loss: 1.8404 - val_accuracy: 0.0000e+00\n",
      "Epoch 59/300\n",
      "192/192 [==============================] - 0s 635us/step - loss: 0.3901 - accuracy: 0.8594 - val_loss: 1.9435 - val_accuracy: 0.0000e+00\n",
      "Epoch 60/300\n",
      "192/192 [==============================] - 0s 581us/step - loss: 0.3721 - accuracy: 0.8594 - val_loss: 1.6050 - val_accuracy: 0.0000e+00\n",
      "Epoch 61/300\n",
      "192/192 [==============================] - 0s 583us/step - loss: 0.3641 - accuracy: 0.8594 - val_loss: 1.6346 - val_accuracy: 0.0000e+00\n",
      "Epoch 62/300\n",
      "192/192 [==============================] - 0s 976us/step - loss: 0.3729 - accuracy: 0.8594 - val_loss: 1.7668 - val_accuracy: 0.0000e+00\n",
      "Epoch 63/300\n",
      "192/192 [==============================] - 0s 773us/step - loss: 0.3489 - accuracy: 0.8594 - val_loss: 1.6881 - val_accuracy: 0.0000e+00\n",
      "Epoch 64/300\n",
      "192/192 [==============================] - 0s 703us/step - loss: 0.3544 - accuracy: 0.8594 - val_loss: 1.5680 - val_accuracy: 0.0000e+00\n",
      "Epoch 65/300\n",
      "192/192 [==============================] - 0s 761us/step - loss: 0.3639 - accuracy: 0.8594 - val_loss: 1.5680 - val_accuracy: 0.0000e+00\n",
      "Epoch 66/300\n",
      "192/192 [==============================] - 0s 667us/step - loss: 0.3520 - accuracy: 0.8594 - val_loss: 1.4784 - val_accuracy: 0.0000e+00\n",
      "Epoch 67/300\n",
      "192/192 [==============================] - 0s 771us/step - loss: 0.3412 - accuracy: 0.8594 - val_loss: 1.7679 - val_accuracy: 0.0000e+00\n",
      "Epoch 68/300\n",
      "192/192 [==============================] - 0s 874us/step - loss: 0.3356 - accuracy: 0.8594 - val_loss: 1.3799 - val_accuracy: 0.0000e+00\n",
      "Epoch 69/300\n",
      "192/192 [==============================] - 0s 696us/step - loss: 0.3408 - accuracy: 0.8594 - val_loss: 1.6818 - val_accuracy: 0.0000e+00\n",
      "Epoch 70/300\n",
      "192/192 [==============================] - 0s 654us/step - loss: 0.3507 - accuracy: 0.8594 - val_loss: 1.4364 - val_accuracy: 0.0000e+00\n",
      "Epoch 71/300\n",
      "192/192 [==============================] - 0s 727us/step - loss: 0.3463 - accuracy: 0.8594 - val_loss: 1.4132 - val_accuracy: 0.0000e+00\n",
      "Epoch 72/300\n",
      "192/192 [==============================] - 0s 913us/step - loss: 0.3457 - accuracy: 0.8594 - val_loss: 1.4955 - val_accuracy: 0.0000e+00\n",
      "Epoch 73/300\n",
      "192/192 [==============================] - 0s 803us/step - loss: 0.3352 - accuracy: 0.8594 - val_loss: 1.5772 - val_accuracy: 0.0000e+00\n",
      "Epoch 74/300\n",
      "192/192 [==============================] - 0s 791us/step - loss: 0.3370 - accuracy: 0.8594 - val_loss: 1.5684 - val_accuracy: 0.0000e+00\n",
      "Epoch 75/300\n",
      "192/192 [==============================] - 0s 635us/step - loss: 0.3293 - accuracy: 0.8594 - val_loss: 1.5901 - val_accuracy: 0.0000e+00\n",
      "Epoch 76/300\n",
      "192/192 [==============================] - 0s 627us/step - loss: 0.3423 - accuracy: 0.8594 - val_loss: 1.2854 - val_accuracy: 0.0000e+00\n",
      "Epoch 77/300\n",
      "192/192 [==============================] - 0s 583us/step - loss: 0.3457 - accuracy: 0.8594 - val_loss: 1.3934 - val_accuracy: 0.0000e+00\n",
      "Epoch 78/300\n",
      "192/192 [==============================] - 0s 979us/step - loss: 0.3219 - accuracy: 0.8594 - val_loss: 1.5653 - val_accuracy: 0.0000e+00\n",
      "Epoch 79/300\n",
      "192/192 [==============================] - 0s 1ms/step - loss: 0.3252 - accuracy: 0.8594 - val_loss: 1.3432 - val_accuracy: 0.0000e+00\n",
      "Epoch 80/300\n",
      "192/192 [==============================] - 0s 703us/step - loss: 0.3634 - accuracy: 0.8594 - val_loss: 1.9863 - val_accuracy: 0.0000e+00\n",
      "Epoch 81/300\n",
      "192/192 [==============================] - 0s 631us/step - loss: 0.3473 - accuracy: 0.8594 - val_loss: 1.2076 - val_accuracy: 0.0000e+00\n",
      "Epoch 82/300\n",
      "192/192 [==============================] - 0s 732us/step - loss: 0.3363 - accuracy: 0.8594 - val_loss: 1.5843 - val_accuracy: 0.0000e+00\n",
      "Epoch 83/300\n",
      "192/192 [==============================] - 0s 716us/step - loss: 0.3235 - accuracy: 0.8594 - val_loss: 1.8272 - val_accuracy: 0.0000e+00\n",
      "Epoch 84/300\n",
      "192/192 [==============================] - 0s 750us/step - loss: 0.3725 - accuracy: 0.8594 - val_loss: 1.3458 - val_accuracy: 0.0000e+00\n",
      "Epoch 85/300\n",
      "192/192 [==============================] - 0s 585us/step - loss: 0.3162 - accuracy: 0.8594 - val_loss: 1.5045 - val_accuracy: 0.0000e+00\n",
      "Epoch 86/300\n",
      "192/192 [==============================] - 0s 628us/step - loss: 0.3232 - accuracy: 0.8594 - val_loss: 1.3411 - val_accuracy: 0.0000e+00\n",
      "Epoch 87/300\n",
      "192/192 [==============================] - 0s 695us/step - loss: 0.3145 - accuracy: 0.8594 - val_loss: 1.3587 - val_accuracy: 0.0000e+00\n",
      "Epoch 88/300\n",
      "192/192 [==============================] - 0s 963us/step - loss: 0.3847 - accuracy: 0.8594 - val_loss: 1.9124 - val_accuracy: 0.0000e+00\n",
      "Epoch 89/300\n",
      "192/192 [==============================] - 0s 840us/step - loss: 0.3427 - accuracy: 0.8594 - val_loss: 1.3093 - val_accuracy: 0.0000e+00\n",
      "Epoch 90/300\n",
      "192/192 [==============================] - 0s 641us/step - loss: 0.3257 - accuracy: 0.8594 - val_loss: 1.4727 - val_accuracy: 0.0000e+00\n",
      "Epoch 91/300\n",
      "192/192 [==============================] - 0s 899us/step - loss: 0.3144 - accuracy: 0.8594 - val_loss: 1.5800 - val_accuracy: 0.0000e+00\n",
      "Epoch 92/300\n",
      "192/192 [==============================] - 0s 889us/step - loss: 0.3038 - accuracy: 0.8594 - val_loss: 1.2969 - val_accuracy: 0.0000e+00\n",
      "Epoch 93/300\n",
      "192/192 [==============================] - 0s 762us/step - loss: 0.3205 - accuracy: 0.8594 - val_loss: 1.1852 - val_accuracy: 0.0000e+00\n",
      "Epoch 94/300\n",
      "192/192 [==============================] - 0s 637us/step - loss: 0.3243 - accuracy: 0.8594 - val_loss: 1.5427 - val_accuracy: 0.0000e+00\n",
      "Epoch 95/300\n",
      "192/192 [==============================] - 0s 720us/step - loss: 0.3018 - accuracy: 0.8594 - val_loss: 1.4988 - val_accuracy: 0.0000e+00\n",
      "Epoch 96/300\n",
      "192/192 [==============================] - 0s 821us/step - loss: 0.3147 - accuracy: 0.8594 - val_loss: 1.6702 - val_accuracy: 0.0000e+00\n",
      "Epoch 97/300\n",
      "192/192 [==============================] - 0s 767us/step - loss: 0.3430 - accuracy: 0.8594 - val_loss: 0.9902 - val_accuracy: 0.0000e+00\n",
      "Epoch 98/300\n",
      "192/192 [==============================] - 0s 999us/step - loss: 0.3377 - accuracy: 0.8594 - val_loss: 1.8689 - val_accuracy: 0.0000e+00\n",
      "Epoch 99/300\n",
      "192/192 [==============================] - 0s 935us/step - loss: 0.3065 - accuracy: 0.8594 - val_loss: 1.6380 - val_accuracy: 0.0000e+00\n",
      "Epoch 100/300\n",
      "192/192 [==============================] - 0s 786us/step - loss: 0.3013 - accuracy: 0.8594 - val_loss: 1.6017 - val_accuracy: 0.0000e+00\n",
      "Epoch 101/300\n",
      "192/192 [==============================] - 0s 597us/step - loss: 0.3018 - accuracy: 0.8594 - val_loss: 1.2240 - val_accuracy: 0.0000e+00\n",
      "Epoch 102/300\n",
      "192/192 [==============================] - 0s 932us/step - loss: 0.2870 - accuracy: 0.8594 - val_loss: 1.3355 - val_accuracy: 0.0000e+00\n",
      "Epoch 103/300\n",
      "192/192 [==============================] - 0s 931us/step - loss: 0.2889 - accuracy: 0.8594 - val_loss: 1.4273 - val_accuracy: 0.0000e+00\n",
      "Epoch 104/300\n",
      "192/192 [==============================] - 0s 1ms/step - loss: 0.2962 - accuracy: 0.8594 - val_loss: 1.2695 - val_accuracy: 0.0000e+00\n",
      "Epoch 105/300\n",
      "192/192 [==============================] - 0s 822us/step - loss: 0.2932 - accuracy: 0.8594 - val_loss: 1.1554 - val_accuracy: 0.0000e+00\n",
      "Epoch 106/300\n",
      "192/192 [==============================] - 0s 716us/step - loss: 0.2856 - accuracy: 0.8594 - val_loss: 1.5690 - val_accuracy: 0.0000e+00\n",
      "Epoch 107/300\n",
      "192/192 [==============================] - 0s 787us/step - loss: 0.2795 - accuracy: 0.8594 - val_loss: 1.2241 - val_accuracy: 0.0000e+00\n",
      "Epoch 108/300\n",
      "192/192 [==============================] - 0s 932us/step - loss: 0.2866 - accuracy: 0.8594 - val_loss: 1.1850 - val_accuracy: 0.0000e+00\n",
      "Epoch 109/300\n",
      "192/192 [==============================] - 0s 692us/step - loss: 0.3030 - accuracy: 0.8594 - val_loss: 1.2227 - val_accuracy: 0.0000e+00\n",
      "Epoch 110/300\n",
      "192/192 [==============================] - 0s 679us/step - loss: 0.2821 - accuracy: 0.8594 - val_loss: 1.2291 - val_accuracy: 0.0000e+00\n",
      "Epoch 111/300\n",
      "192/192 [==============================] - 0s 731us/step - loss: 0.2800 - accuracy: 0.8594 - val_loss: 1.3725 - val_accuracy: 0.0000e+00\n",
      "Epoch 112/300\n",
      "192/192 [==============================] - 0s 568us/step - loss: 0.3196 - accuracy: 0.8594 - val_loss: 1.1647 - val_accuracy: 0.0000e+00\n",
      "Epoch 113/300\n",
      "192/192 [==============================] - 0s 768us/step - loss: 0.3053 - accuracy: 0.8594 - val_loss: 1.0407 - val_accuracy: 0.0000e+00\n",
      "Epoch 114/300\n",
      "192/192 [==============================] - 0s 1ms/step - loss: 0.2683 - accuracy: 0.8594 - val_loss: 1.8724 - val_accuracy: 0.0000e+00\n",
      "Epoch 115/300\n",
      "192/192 [==============================] - 0s 862us/step - loss: 0.2918 - accuracy: 0.8594 - val_loss: 1.3326 - val_accuracy: 0.0000e+00\n",
      "Epoch 116/300\n",
      "192/192 [==============================] - 0s 778us/step - loss: 0.2750 - accuracy: 0.8594 - val_loss: 1.3617 - val_accuracy: 0.3125\n",
      "Epoch 117/300\n",
      "192/192 [==============================] - 0s 712us/step - loss: 0.2773 - accuracy: 0.8646 - val_loss: 1.2968 - val_accuracy: 0.0000e+00\n",
      "Epoch 118/300\n",
      "192/192 [==============================] - 0s 610us/step - loss: 0.2647 - accuracy: 0.8854 - val_loss: 1.3267 - val_accuracy: 0.3958\n",
      "Epoch 119/300\n",
      "192/192 [==============================] - 0s 756us/step - loss: 0.2658 - accuracy: 0.9115 - val_loss: 1.3034 - val_accuracy: 0.3958\n",
      "Epoch 120/300\n",
      "192/192 [==============================] - 0s 909us/step - loss: 0.2655 - accuracy: 0.9062 - val_loss: 0.9236 - val_accuracy: 0.6667\n",
      "Epoch 121/300\n",
      "192/192 [==============================] - 0s 751us/step - loss: 0.2724 - accuracy: 0.9219 - val_loss: 1.2575 - val_accuracy: 0.4375\n",
      "Epoch 122/300\n",
      "192/192 [==============================] - 0s 795us/step - loss: 0.2684 - accuracy: 0.9115 - val_loss: 1.3056 - val_accuracy: 0.3958\n",
      "Epoch 123/300\n",
      "192/192 [==============================] - 0s 773us/step - loss: 0.2589 - accuracy: 0.8958 - val_loss: 0.8461 - val_accuracy: 0.7292\n",
      "Epoch 124/300\n",
      "192/192 [==============================] - 0s 807us/step - loss: 0.2785 - accuracy: 0.9115 - val_loss: 0.8571 - val_accuracy: 0.7292\n",
      "Epoch 125/300\n",
      "192/192 [==============================] - 0s 830us/step - loss: 0.2824 - accuracy: 0.9219 - val_loss: 1.1329 - val_accuracy: 0.5625\n",
      "Epoch 126/300\n",
      "192/192 [==============================] - 0s 728us/step - loss: 0.2496 - accuracy: 0.9219 - val_loss: 1.5328 - val_accuracy: 0.3958\n",
      "Epoch 127/300\n",
      "192/192 [==============================] - 0s 837us/step - loss: 0.2802 - accuracy: 0.9115 - val_loss: 1.9324 - val_accuracy: 0.2083\n",
      "Epoch 128/300\n",
      "192/192 [==============================] - 0s 780us/step - loss: 0.3279 - accuracy: 0.8594 - val_loss: 1.4001 - val_accuracy: 0.4167\n",
      "Epoch 129/300\n",
      "192/192 [==============================] - 0s 725us/step - loss: 0.2652 - accuracy: 0.9115 - val_loss: 0.6777 - val_accuracy: 0.8750\n",
      "Epoch 130/300\n",
      "192/192 [==============================] - 0s 562us/step - loss: 0.3310 - accuracy: 0.8646 - val_loss: 1.0930 - val_accuracy: 0.5833\n",
      "Epoch 131/300\n",
      "192/192 [==============================] - 0s 929us/step - loss: 0.2607 - accuracy: 0.9167 - val_loss: 1.1852 - val_accuracy: 0.5417\n",
      "Epoch 132/300\n",
      "192/192 [==============================] - 0s 640us/step - loss: 0.2557 - accuracy: 0.9323 - val_loss: 0.9371 - val_accuracy: 0.6875\n",
      "Epoch 133/300\n",
      "192/192 [==============================] - 0s 557us/step - loss: 0.2772 - accuracy: 0.9115 - val_loss: 0.9797 - val_accuracy: 0.6458\n",
      "Epoch 134/300\n",
      "192/192 [==============================] - 0s 748us/step - loss: 0.2623 - accuracy: 0.9062 - val_loss: 1.0177 - val_accuracy: 0.6250\n",
      "Epoch 135/300\n",
      "192/192 [==============================] - 0s 820us/step - loss: 0.2503 - accuracy: 0.9271 - val_loss: 1.1061 - val_accuracy: 0.6042\n",
      "Epoch 136/300\n",
      "192/192 [==============================] - 0s 632us/step - loss: 0.2556 - accuracy: 0.9115 - val_loss: 1.4380 - val_accuracy: 0.4375\n",
      "Epoch 137/300\n",
      "192/192 [==============================] - 0s 614us/step - loss: 0.2647 - accuracy: 0.9115 - val_loss: 1.2129 - val_accuracy: 0.5000\n",
      "Epoch 138/300\n",
      "192/192 [==============================] - 0s 582us/step - loss: 0.2567 - accuracy: 0.9010 - val_loss: 0.6506 - val_accuracy: 0.8333\n",
      "Epoch 139/300\n",
      "192/192 [==============================] - 0s 566us/step - loss: 0.2847 - accuracy: 0.8906 - val_loss: 1.0759 - val_accuracy: 0.6042\n",
      "Epoch 140/300\n",
      "192/192 [==============================] - 0s 617us/step - loss: 0.2600 - accuracy: 0.9010 - val_loss: 1.5209 - val_accuracy: 0.4167\n",
      "Epoch 141/300\n",
      "192/192 [==============================] - 0s 892us/step - loss: 0.2337 - accuracy: 0.9219 - val_loss: 0.8818 - val_accuracy: 0.7083\n",
      "Epoch 142/300\n",
      "192/192 [==============================] - 0s 523us/step - loss: 0.3026 - accuracy: 0.8802 - val_loss: 1.1704 - val_accuracy: 0.5417\n",
      "Epoch 143/300\n",
      "192/192 [==============================] - 0s 648us/step - loss: 0.2533 - accuracy: 0.9167 - val_loss: 0.9644 - val_accuracy: 0.6875\n",
      "Epoch 144/300\n",
      "192/192 [==============================] - 0s 733us/step - loss: 0.2515 - accuracy: 0.9271 - val_loss: 1.0293 - val_accuracy: 0.6042\n",
      "Epoch 145/300\n",
      "192/192 [==============================] - 0s 780us/step - loss: 0.2441 - accuracy: 0.9323 - val_loss: 0.7520 - val_accuracy: 0.7708\n",
      "Epoch 146/300\n",
      "192/192 [==============================] - 0s 675us/step - loss: 0.2646 - accuracy: 0.8906 - val_loss: 0.7677 - val_accuracy: 0.7500\n",
      "Epoch 147/300\n",
      "192/192 [==============================] - 0s 857us/step - loss: 0.2288 - accuracy: 0.9271 - val_loss: 1.1447 - val_accuracy: 0.5417\n",
      "Epoch 148/300\n",
      "192/192 [==============================] - 0s 863us/step - loss: 0.2334 - accuracy: 0.9375 - val_loss: 1.1899 - val_accuracy: 0.5417\n",
      "Epoch 149/300\n",
      "192/192 [==============================] - 0s 571us/step - loss: 0.2339 - accuracy: 0.9427 - val_loss: 0.9234 - val_accuracy: 0.6875\n",
      "Epoch 150/300\n",
      "192/192 [==============================] - 0s 872us/step - loss: 0.2479 - accuracy: 0.9271 - val_loss: 0.9936 - val_accuracy: 0.6875\n",
      "Epoch 151/300\n",
      "192/192 [==============================] - 0s 670us/step - loss: 0.2450 - accuracy: 0.9062 - val_loss: 1.2171 - val_accuracy: 0.5208\n",
      "Epoch 152/300\n",
      "192/192 [==============================] - 0s 709us/step - loss: 0.2561 - accuracy: 0.9010 - val_loss: 1.4230 - val_accuracy: 0.4792\n",
      "Epoch 153/300\n",
      "192/192 [==============================] - 0s 681us/step - loss: 0.2306 - accuracy: 0.9375 - val_loss: 1.3575 - val_accuracy: 0.4792\n",
      "Epoch 154/300\n",
      "192/192 [==============================] - 0s 866us/step - loss: 0.2491 - accuracy: 0.9219 - val_loss: 1.3596 - val_accuracy: 0.4792\n",
      "Epoch 155/300\n",
      "192/192 [==============================] - 0s 701us/step - loss: 0.2238 - accuracy: 0.9375 - val_loss: 1.8220 - val_accuracy: 0.3333\n",
      "Epoch 156/300\n",
      "192/192 [==============================] - 0s 834us/step - loss: 0.2692 - accuracy: 0.9271 - val_loss: 1.1509 - val_accuracy: 0.5208\n",
      "Epoch 157/300\n",
      "192/192 [==============================] - 0s 613us/step - loss: 0.2482 - accuracy: 0.9062 - val_loss: 1.2007 - val_accuracy: 0.5208\n",
      "Epoch 158/300\n",
      "192/192 [==============================] - 0s 776us/step - loss: 0.3005 - accuracy: 0.9010 - val_loss: 0.6347 - val_accuracy: 0.8333\n",
      "Epoch 159/300\n",
      "192/192 [==============================] - 0s 774us/step - loss: 0.2641 - accuracy: 0.8906 - val_loss: 1.0905 - val_accuracy: 0.5833\n",
      "Epoch 160/300\n",
      "192/192 [==============================] - 0s 824us/step - loss: 0.2309 - accuracy: 0.9167 - val_loss: 0.8597 - val_accuracy: 0.6875\n",
      "Epoch 161/300\n",
      "192/192 [==============================] - 0s 854us/step - loss: 0.2447 - accuracy: 0.9219 - val_loss: 1.3202 - val_accuracy: 0.4792\n",
      "Epoch 162/300\n",
      "192/192 [==============================] - 0s 818us/step - loss: 0.2340 - accuracy: 0.9167 - val_loss: 1.0066 - val_accuracy: 0.6667\n",
      "Epoch 163/300\n",
      "192/192 [==============================] - 0s 638us/step - loss: 0.2728 - accuracy: 0.8698 - val_loss: 1.6647 - val_accuracy: 0.3958\n",
      "Epoch 164/300\n",
      "192/192 [==============================] - 0s 952us/step - loss: 0.2189 - accuracy: 0.9219 - val_loss: 0.8717 - val_accuracy: 0.7083\n",
      "Epoch 165/300\n",
      "192/192 [==============================] - 0s 702us/step - loss: 0.2214 - accuracy: 0.9271 - val_loss: 0.8703 - val_accuracy: 0.7083\n",
      "Epoch 166/300\n",
      "192/192 [==============================] - 0s 793us/step - loss: 0.2318 - accuracy: 0.9219 - val_loss: 1.2813 - val_accuracy: 0.5208\n",
      "Epoch 167/300\n",
      "192/192 [==============================] - 0s 729us/step - loss: 0.1971 - accuracy: 0.9271 - val_loss: 0.5703 - val_accuracy: 0.8333\n",
      "Epoch 168/300\n",
      "192/192 [==============================] - 0s 758us/step - loss: 0.2428 - accuracy: 0.9010 - val_loss: 0.8750 - val_accuracy: 0.7292\n",
      "Epoch 169/300\n",
      "192/192 [==============================] - 0s 764us/step - loss: 0.2450 - accuracy: 0.9219 - val_loss: 1.0529 - val_accuracy: 0.6458\n",
      "Epoch 170/300\n",
      "192/192 [==============================] - 0s 912us/step - loss: 0.2256 - accuracy: 0.9479 - val_loss: 0.9411 - val_accuracy: 0.6875\n",
      "Epoch 171/300\n",
      "192/192 [==============================] - 0s 881us/step - loss: 0.2274 - accuracy: 0.9010 - val_loss: 1.0626 - val_accuracy: 0.6250\n",
      "Epoch 172/300\n",
      "192/192 [==============================] - 0s 796us/step - loss: 0.2326 - accuracy: 0.9271 - val_loss: 0.8282 - val_accuracy: 0.7292\n",
      "Epoch 173/300\n",
      "192/192 [==============================] - 0s 803us/step - loss: 0.2316 - accuracy: 0.9115 - val_loss: 0.8625 - val_accuracy: 0.7083\n",
      "Epoch 174/300\n",
      "192/192 [==============================] - 0s 604us/step - loss: 0.2359 - accuracy: 0.9219 - val_loss: 0.8415 - val_accuracy: 0.6875\n",
      "Epoch 175/300\n",
      "192/192 [==============================] - 0s 860us/step - loss: 0.2440 - accuracy: 0.9219 - val_loss: 1.1503 - val_accuracy: 0.6042\n",
      "Epoch 176/300\n",
      "192/192 [==============================] - 0s 994us/step - loss: 0.2414 - accuracy: 0.9375 - val_loss: 0.6926 - val_accuracy: 0.8125\n",
      "Epoch 177/300\n",
      "192/192 [==============================] - 0s 772us/step - loss: 0.2525 - accuracy: 0.8906 - val_loss: 0.8531 - val_accuracy: 0.6875\n",
      "Epoch 178/300\n",
      "192/192 [==============================] - 0s 780us/step - loss: 0.2208 - accuracy: 0.9375 - val_loss: 1.1313 - val_accuracy: 0.6042\n",
      "Epoch 179/300\n",
      "192/192 [==============================] - 0s 620us/step - loss: 0.2528 - accuracy: 0.8906 - val_loss: 0.9212 - val_accuracy: 0.6875\n",
      "Epoch 180/300\n",
      "192/192 [==============================] - 0s 651us/step - loss: 0.2772 - accuracy: 0.8854 - val_loss: 1.2681 - val_accuracy: 0.5208\n",
      "Epoch 181/300\n",
      "192/192 [==============================] - 0s 907us/step - loss: 0.3027 - accuracy: 0.8906 - val_loss: 0.5222 - val_accuracy: 0.8333\n",
      "Epoch 182/300\n",
      "192/192 [==============================] - 0s 766us/step - loss: 0.2846 - accuracy: 0.8750 - val_loss: 1.4635 - val_accuracy: 0.4792\n",
      "Epoch 183/300\n",
      "192/192 [==============================] - 0s 912us/step - loss: 0.2291 - accuracy: 0.9271 - val_loss: 1.2248 - val_accuracy: 0.5208\n",
      "Epoch 184/300\n",
      "192/192 [==============================] - 0s 532us/step - loss: 0.2136 - accuracy: 0.9323 - val_loss: 1.1364 - val_accuracy: 0.6250\n",
      "Epoch 185/300\n",
      "192/192 [==============================] - 0s 701us/step - loss: 0.2141 - accuracy: 0.9427 - val_loss: 1.2743 - val_accuracy: 0.5208\n",
      "Epoch 186/300\n",
      "192/192 [==============================] - 0s 647us/step - loss: 0.2084 - accuracy: 0.9427 - val_loss: 1.0478 - val_accuracy: 0.6250\n",
      "Epoch 187/300\n",
      "192/192 [==============================] - 0s 819us/step - loss: 0.2199 - accuracy: 0.9271 - val_loss: 0.7982 - val_accuracy: 0.7708\n",
      "Epoch 188/300\n",
      "192/192 [==============================] - 0s 748us/step - loss: 0.2593 - accuracy: 0.9062 - val_loss: 2.0236 - val_accuracy: 0.3125\n",
      "Epoch 189/300\n",
      "192/192 [==============================] - 0s 621us/step - loss: 0.2207 - accuracy: 0.9271 - val_loss: 1.0302 - val_accuracy: 0.6458\n",
      "Epoch 190/300\n",
      "192/192 [==============================] - 0s 694us/step - loss: 0.2229 - accuracy: 0.9271 - val_loss: 1.7154 - val_accuracy: 0.3750\n",
      "Epoch 191/300\n",
      "192/192 [==============================] - 0s 818us/step - loss: 0.3284 - accuracy: 0.8542 - val_loss: 1.5830 - val_accuracy: 0.4792\n",
      "Epoch 192/300\n",
      "192/192 [==============================] - 0s 535us/step - loss: 0.2745 - accuracy: 0.8906 - val_loss: 1.4638 - val_accuracy: 0.4792\n",
      "Epoch 193/300\n",
      "192/192 [==============================] - 0s 821us/step - loss: 0.2349 - accuracy: 0.9219 - val_loss: 1.2547 - val_accuracy: 0.5417\n",
      "Epoch 194/300\n",
      "192/192 [==============================] - 0s 595us/step - loss: 0.2047 - accuracy: 0.9323 - val_loss: 0.7034 - val_accuracy: 0.7917\n",
      "Epoch 195/300\n",
      "192/192 [==============================] - 0s 712us/step - loss: 0.2506 - accuracy: 0.8958 - val_loss: 0.7947 - val_accuracy: 0.7917\n",
      "Epoch 196/300\n",
      "192/192 [==============================] - 0s 715us/step - loss: 0.2119 - accuracy: 0.9167 - val_loss: 1.8255 - val_accuracy: 0.3750\n",
      "Epoch 197/300\n",
      "192/192 [==============================] - 0s 775us/step - loss: 0.2400 - accuracy: 0.9115 - val_loss: 1.2483 - val_accuracy: 0.6042\n",
      "Epoch 198/300\n",
      "192/192 [==============================] - ETA: 0s - loss: 0.2264 - accuracy: 0.92 - 0s 534us/step - loss: 0.2245 - accuracy: 0.9219 - val_loss: 0.6883 - val_accuracy: 0.7917\n",
      "Epoch 199/300\n",
      "192/192 [==============================] - 0s 705us/step - loss: 0.2453 - accuracy: 0.9062 - val_loss: 1.2585 - val_accuracy: 0.5625\n",
      "Epoch 200/300\n",
      "192/192 [==============================] - 0s 728us/step - loss: 0.2049 - accuracy: 0.9479 - val_loss: 1.4142 - val_accuracy: 0.5000\n",
      "Epoch 201/300\n",
      "192/192 [==============================] - 0s 592us/step - loss: 0.2120 - accuracy: 0.9479 - val_loss: 1.1978 - val_accuracy: 0.6042\n",
      "Epoch 202/300\n",
      "192/192 [==============================] - 0s 610us/step - loss: 0.2214 - accuracy: 0.9375 - val_loss: 1.3511 - val_accuracy: 0.5000\n",
      "Epoch 203/300\n",
      "192/192 [==============================] - 0s 939us/step - loss: 0.2128 - accuracy: 0.9375 - val_loss: 1.3687 - val_accuracy: 0.5000\n",
      "Epoch 204/300\n",
      "192/192 [==============================] - 0s 890us/step - loss: 0.2451 - accuracy: 0.9010 - val_loss: 1.7644 - val_accuracy: 0.3333\n",
      "Epoch 205/300\n",
      "192/192 [==============================] - 0s 886us/step - loss: 0.2476 - accuracy: 0.9115 - val_loss: 1.4626 - val_accuracy: 0.4792\n",
      "Epoch 206/300\n",
      "192/192 [==============================] - 0s 613us/step - loss: 0.2515 - accuracy: 0.8958 - val_loss: 1.6731 - val_accuracy: 0.4583\n",
      "Epoch 207/300\n",
      "192/192 [==============================] - 0s 628us/step - loss: 0.2548 - accuracy: 0.8854 - val_loss: 1.4080 - val_accuracy: 0.5208\n",
      "Epoch 208/300\n",
      "192/192 [==============================] - 0s 675us/step - loss: 0.2239 - accuracy: 0.9375 - val_loss: 1.0587 - val_accuracy: 0.6250\n",
      "Epoch 209/300\n",
      "192/192 [==============================] - 0s 541us/step - loss: 0.2357 - accuracy: 0.9167 - val_loss: 0.8430 - val_accuracy: 0.7708\n",
      "Epoch 210/300\n",
      "192/192 [==============================] - ETA: 0s - loss: 0.2148 - accuracy: 0.93 - 0s 779us/step - loss: 0.2129 - accuracy: 0.9323 - val_loss: 1.4964 - val_accuracy: 0.4792\n",
      "Epoch 211/300\n",
      "192/192 [==============================] - 0s 742us/step - loss: 0.2147 - accuracy: 0.9427 - val_loss: 1.2723 - val_accuracy: 0.5417\n",
      "Epoch 212/300\n",
      "192/192 [==============================] - 0s 652us/step - loss: 0.2039 - accuracy: 0.9375 - val_loss: 0.7840 - val_accuracy: 0.7500\n",
      "Epoch 213/300\n",
      "192/192 [==============================] - 0s 591us/step - loss: 0.2283 - accuracy: 0.9271 - val_loss: 1.5259 - val_accuracy: 0.4792\n",
      "Epoch 214/300\n",
      "192/192 [==============================] - 0s 825us/step - loss: 0.2064 - accuracy: 0.9531 - val_loss: 1.3400 - val_accuracy: 0.5208\n",
      "Epoch 215/300\n",
      "192/192 [==============================] - 0s 686us/step - loss: 0.2039 - accuracy: 0.9427 - val_loss: 0.8713 - val_accuracy: 0.6875\n",
      "Epoch 216/300\n",
      "192/192 [==============================] - 0s 710us/step - loss: 0.2644 - accuracy: 0.9323 - val_loss: 0.7686 - val_accuracy: 0.7708\n",
      "Epoch 217/300\n",
      "192/192 [==============================] - 0s 825us/step - loss: 0.2056 - accuracy: 0.9271 - val_loss: 0.9891 - val_accuracy: 0.6458\n",
      "Epoch 218/300\n",
      "192/192 [==============================] - 0s 678us/step - loss: 0.2820 - accuracy: 0.8750 - val_loss: 1.3386 - val_accuracy: 0.5417\n",
      "Epoch 219/300\n",
      "192/192 [==============================] - 0s 910us/step - loss: 0.2523 - accuracy: 0.9010 - val_loss: 1.3296 - val_accuracy: 0.5417\n",
      "Epoch 220/300\n",
      "192/192 [==============================] - 0s 702us/step - loss: 0.2134 - accuracy: 0.9427 - val_loss: 1.5408 - val_accuracy: 0.4792\n",
      "Epoch 221/300\n",
      "192/192 [==============================] - 0s 592us/step - loss: 0.2105 - accuracy: 0.9375 - val_loss: 1.1346 - val_accuracy: 0.6250\n",
      "Epoch 222/300\n",
      "192/192 [==============================] - 0s 729us/step - loss: 0.1994 - accuracy: 0.9375 - val_loss: 0.8493 - val_accuracy: 0.7083\n",
      "Epoch 223/300\n",
      "192/192 [==============================] - 0s 669us/step - loss: 0.2341 - accuracy: 0.9115 - val_loss: 0.9444 - val_accuracy: 0.6875\n",
      "Epoch 224/300\n",
      "192/192 [==============================] - 0s 592us/step - loss: 0.2169 - accuracy: 0.9219 - val_loss: 1.3729 - val_accuracy: 0.5000\n",
      "Epoch 225/300\n",
      "192/192 [==============================] - 0s 772us/step - loss: 0.2060 - accuracy: 0.9323 - val_loss: 1.0290 - val_accuracy: 0.6458\n",
      "Epoch 226/300\n",
      "192/192 [==============================] - 0s 620us/step - loss: 0.1976 - accuracy: 0.9323 - val_loss: 0.8503 - val_accuracy: 0.7083\n",
      "Epoch 227/300\n",
      "192/192 [==============================] - 0s 649us/step - loss: 0.2392 - accuracy: 0.9115 - val_loss: 1.5376 - val_accuracy: 0.4583\n",
      "Epoch 228/300\n",
      "192/192 [==============================] - 0s 1ms/step - loss: 0.2156 - accuracy: 0.9375 - val_loss: 0.9674 - val_accuracy: 0.6250\n",
      "Epoch 229/300\n",
      "192/192 [==============================] - 0s 1ms/step - loss: 0.2066 - accuracy: 0.9427 - val_loss: 0.8828 - val_accuracy: 0.6875\n",
      "Epoch 230/300\n",
      "192/192 [==============================] - 0s 931us/step - loss: 0.2050 - accuracy: 0.9427 - val_loss: 0.9763 - val_accuracy: 0.6458\n",
      "Epoch 231/300\n",
      "192/192 [==============================] - 0s 844us/step - loss: 0.2178 - accuracy: 0.9167 - val_loss: 1.7386 - val_accuracy: 0.3542\n",
      "Epoch 232/300\n",
      "192/192 [==============================] - 0s 611us/step - loss: 0.2313 - accuracy: 0.9323 - val_loss: 0.9440 - val_accuracy: 0.6458\n",
      "Epoch 233/300\n",
      "192/192 [==============================] - 0s 699us/step - loss: 0.2039 - accuracy: 0.9427 - val_loss: 1.6198 - val_accuracy: 0.4375\n",
      "Epoch 234/300\n",
      "192/192 [==============================] - 0s 807us/step - loss: 0.2201 - accuracy: 0.9323 - val_loss: 1.2439 - val_accuracy: 0.5833\n",
      "Epoch 235/300\n",
      "192/192 [==============================] - 0s 698us/step - loss: 0.2063 - accuracy: 0.9479 - val_loss: 1.3345 - val_accuracy: 0.5417\n",
      "Epoch 236/300\n",
      "192/192 [==============================] - 0s 1ms/step - loss: 0.2128 - accuracy: 0.9323 - val_loss: 1.2695 - val_accuracy: 0.5625\n",
      "Epoch 237/300\n",
      "192/192 [==============================] - 0s 906us/step - loss: 0.2011 - accuracy: 0.9427 - val_loss: 0.9817 - val_accuracy: 0.6458\n",
      "Epoch 238/300\n",
      "192/192 [==============================] - 0s 874us/step - loss: 0.1924 - accuracy: 0.9479 - val_loss: 1.3406 - val_accuracy: 0.5625\n",
      "Epoch 239/300\n",
      "192/192 [==============================] - 0s 750us/step - loss: 0.2294 - accuracy: 0.9010 - val_loss: 1.5422 - val_accuracy: 0.4792\n",
      "Epoch 240/300\n",
      "192/192 [==============================] - 0s 749us/step - loss: 0.2304 - accuracy: 0.9219 - val_loss: 1.1710 - val_accuracy: 0.6250\n",
      "Epoch 241/300\n",
      "192/192 [==============================] - 0s 763us/step - loss: 0.3172 - accuracy: 0.8750 - val_loss: 1.9432 - val_accuracy: 0.3333\n",
      "Epoch 242/300\n",
      "192/192 [==============================] - 0s 772us/step - loss: 0.2711 - accuracy: 0.8802 - val_loss: 1.8023 - val_accuracy: 0.3542\n",
      "Epoch 243/300\n",
      "192/192 [==============================] - 0s 660us/step - loss: 0.1856 - accuracy: 0.9479 - val_loss: 0.6904 - val_accuracy: 0.7917\n",
      "Epoch 244/300\n",
      "192/192 [==============================] - 0s 1ms/step - loss: 0.2518 - accuracy: 0.9010 - val_loss: 1.0157 - val_accuracy: 0.6458\n",
      "Epoch 245/300\n",
      "192/192 [==============================] - 0s 776us/step - loss: 0.2894 - accuracy: 0.8854 - val_loss: 1.5357 - val_accuracy: 0.4792\n",
      "Epoch 246/300\n",
      "192/192 [==============================] - 0s 689us/step - loss: 0.2308 - accuracy: 0.9219 - val_loss: 1.4952 - val_accuracy: 0.4792\n",
      "Epoch 247/300\n",
      "192/192 [==============================] - 0s 608us/step - loss: 0.2578 - accuracy: 0.9062 - val_loss: 0.6698 - val_accuracy: 0.8333\n",
      "Epoch 248/300\n",
      "192/192 [==============================] - 0s 902us/step - loss: 0.2570 - accuracy: 0.9115 - val_loss: 1.2239 - val_accuracy: 0.6042\n",
      "Epoch 249/300\n",
      "192/192 [==============================] - 0s 599us/step - loss: 0.2186 - accuracy: 0.9167 - val_loss: 1.5016 - val_accuracy: 0.4792\n",
      "Epoch 250/300\n",
      "192/192 [==============================] - 0s 766us/step - loss: 0.2142 - accuracy: 0.9271 - val_loss: 0.9587 - val_accuracy: 0.6667\n",
      "Epoch 251/300\n",
      "192/192 [==============================] - 0s 713us/step - loss: 0.2042 - accuracy: 0.9427 - val_loss: 0.9015 - val_accuracy: 0.7292\n",
      "Epoch 252/300\n",
      "192/192 [==============================] - 0s 995us/step - loss: 0.2247 - accuracy: 0.9271 - val_loss: 1.1907 - val_accuracy: 0.6042\n",
      "Epoch 253/300\n",
      "192/192 [==============================] - 0s 778us/step - loss: 0.2144 - accuracy: 0.9271 - val_loss: 1.1338 - val_accuracy: 0.6250\n",
      "Epoch 254/300\n",
      "192/192 [==============================] - 0s 824us/step - loss: 0.2634 - accuracy: 0.8958 - val_loss: 0.9790 - val_accuracy: 0.6458\n",
      "Epoch 255/300\n",
      "192/192 [==============================] - 0s 829us/step - loss: 0.1967 - accuracy: 0.9427 - val_loss: 0.9579 - val_accuracy: 0.6458\n",
      "Epoch 256/300\n",
      "192/192 [==============================] - 0s 786us/step - loss: 0.3312 - accuracy: 0.8385 - val_loss: 2.0133 - val_accuracy: 0.3542\n",
      "Epoch 257/300\n",
      "192/192 [==============================] - 0s 746us/step - loss: 0.2675 - accuracy: 0.9115 - val_loss: 1.5005 - val_accuracy: 0.5417\n",
      "Epoch 258/300\n",
      "192/192 [==============================] - 0s 784us/step - loss: 0.2118 - accuracy: 0.9427 - val_loss: 1.3086 - val_accuracy: 0.6042\n",
      "Epoch 259/300\n",
      "192/192 [==============================] - 0s 802us/step - loss: 0.2197 - accuracy: 0.9271 - val_loss: 1.0086 - val_accuracy: 0.6458\n",
      "Epoch 260/300\n",
      "192/192 [==============================] - 0s 716us/step - loss: 0.2086 - accuracy: 0.9375 - val_loss: 1.0539 - val_accuracy: 0.6458\n",
      "Epoch 261/300\n",
      "192/192 [==============================] - 0s 912us/step - loss: 0.1941 - accuracy: 0.9427 - val_loss: 0.8953 - val_accuracy: 0.7083\n",
      "Epoch 262/300\n",
      "192/192 [==============================] - 0s 764us/step - loss: 0.2018 - accuracy: 0.9427 - val_loss: 1.3052 - val_accuracy: 0.5833\n",
      "Epoch 263/300\n",
      "192/192 [==============================] - 0s 724us/step - loss: 0.1986 - accuracy: 0.9479 - val_loss: 1.2269 - val_accuracy: 0.6042\n",
      "Epoch 264/300\n",
      "192/192 [==============================] - 0s 771us/step - loss: 0.2150 - accuracy: 0.9427 - val_loss: 1.0691 - val_accuracy: 0.6250\n",
      "Epoch 265/300\n",
      "192/192 [==============================] - 0s 828us/step - loss: 0.1920 - accuracy: 0.9531 - val_loss: 1.0758 - val_accuracy: 0.6250\n",
      "Epoch 266/300\n",
      "192/192 [==============================] - 0s 817us/step - loss: 0.2133 - accuracy: 0.9271 - val_loss: 0.8261 - val_accuracy: 0.7500\n",
      "Epoch 267/300\n",
      "192/192 [==============================] - 0s 782us/step - loss: 0.2484 - accuracy: 0.8906 - val_loss: 1.0616 - val_accuracy: 0.6250\n",
      "Epoch 268/300\n",
      "192/192 [==============================] - 0s 730us/step - loss: 0.2093 - accuracy: 0.9479 - val_loss: 0.8622 - val_accuracy: 0.7500\n",
      "Epoch 269/300\n",
      "192/192 [==============================] - 0s 773us/step - loss: 0.2152 - accuracy: 0.9167 - val_loss: 1.3401 - val_accuracy: 0.6042\n",
      "Epoch 270/300\n",
      "192/192 [==============================] - 0s 829us/step - loss: 0.1956 - accuracy: 0.9479 - val_loss: 0.9204 - val_accuracy: 0.6667\n",
      "Epoch 271/300\n",
      "192/192 [==============================] - 0s 731us/step - loss: 0.2028 - accuracy: 0.9427 - val_loss: 0.9960 - val_accuracy: 0.6458\n",
      "Epoch 272/300\n",
      "192/192 [==============================] - 0s 801us/step - loss: 0.1925 - accuracy: 0.9479 - val_loss: 1.3397 - val_accuracy: 0.5625\n",
      "Epoch 273/300\n",
      "192/192 [==============================] - 0s 599us/step - loss: 0.2083 - accuracy: 0.9271 - val_loss: 1.0439 - val_accuracy: 0.6458\n",
      "Epoch 274/300\n",
      "192/192 [==============================] - ETA: 0s - loss: 0.2322 - accuracy: 0.92 - 0s 720us/step - loss: 0.2361 - accuracy: 0.9323 - val_loss: 0.9808 - val_accuracy: 0.6458\n",
      "Epoch 275/300\n",
      "192/192 [==============================] - 0s 798us/step - loss: 0.2053 - accuracy: 0.9427 - val_loss: 0.9164 - val_accuracy: 0.6667\n",
      "Epoch 276/300\n",
      "192/192 [==============================] - 0s 635us/step - loss: 0.2200 - accuracy: 0.9375 - val_loss: 1.0541 - val_accuracy: 0.6250\n",
      "Epoch 277/300\n",
      "192/192 [==============================] - 0s 695us/step - loss: 0.2874 - accuracy: 0.8854 - val_loss: 1.2771 - val_accuracy: 0.5833\n",
      "Epoch 278/300\n",
      "192/192 [==============================] - 0s 662us/step - loss: 0.3696 - accuracy: 0.8333 - val_loss: 2.8633 - val_accuracy: 0.1458\n",
      "Epoch 279/300\n",
      "192/192 [==============================] - 0s 545us/step - loss: 0.3194 - accuracy: 0.8854 - val_loss: 0.6275 - val_accuracy: 0.7917\n",
      "Epoch 280/300\n",
      "192/192 [==============================] - 0s 633us/step - loss: 0.2942 - accuracy: 0.8906 - val_loss: 1.1664 - val_accuracy: 0.6042\n",
      "Epoch 281/300\n",
      "192/192 [==============================] - 0s 796us/step - loss: 0.1916 - accuracy: 0.9583 - val_loss: 1.1409 - val_accuracy: 0.6250\n",
      "Epoch 282/300\n",
      "192/192 [==============================] - 0s 502us/step - loss: 0.1969 - accuracy: 0.9323 - val_loss: 0.8081 - val_accuracy: 0.7292\n",
      "Epoch 283/300\n",
      "192/192 [==============================] - 0s 505us/step - loss: 0.2124 - accuracy: 0.9323 - val_loss: 1.1447 - val_accuracy: 0.6250\n",
      "Epoch 284/300\n",
      "192/192 [==============================] - 0s 629us/step - loss: 0.1928 - accuracy: 0.9531 - val_loss: 0.9888 - val_accuracy: 0.6458\n",
      "Epoch 285/300\n",
      "192/192 [==============================] - 0s 644us/step - loss: 0.1964 - accuracy: 0.9479 - val_loss: 1.1709 - val_accuracy: 0.6042\n",
      "Epoch 286/300\n",
      "192/192 [==============================] - 0s 606us/step - loss: 0.1933 - accuracy: 0.9427 - val_loss: 1.5256 - val_accuracy: 0.4583\n",
      "Epoch 287/300\n",
      "192/192 [==============================] - 0s 524us/step - loss: 0.2340 - accuracy: 0.9219 - val_loss: 0.5850 - val_accuracy: 0.7917\n",
      "Epoch 288/300\n",
      "192/192 [==============================] - 0s 829us/step - loss: 0.2394 - accuracy: 0.9219 - val_loss: 1.5413 - val_accuracy: 0.4583\n",
      "Epoch 289/300\n",
      "192/192 [==============================] - 0s 737us/step - loss: 0.2099 - accuracy: 0.9271 - val_loss: 1.1054 - val_accuracy: 0.6458\n",
      "Epoch 290/300\n",
      "192/192 [==============================] - 0s 508us/step - loss: 0.1904 - accuracy: 0.9531 - val_loss: 1.2066 - val_accuracy: 0.6042\n",
      "Epoch 291/300\n",
      "192/192 [==============================] - 0s 570us/step - loss: 0.2088 - accuracy: 0.9375 - val_loss: 0.9160 - val_accuracy: 0.6458\n",
      "Epoch 292/300\n",
      "192/192 [==============================] - 0s 559us/step - loss: 0.2212 - accuracy: 0.9062 - val_loss: 1.1669 - val_accuracy: 0.6250\n",
      "Epoch 293/300\n",
      "192/192 [==============================] - 0s 827us/step - loss: 0.1930 - accuracy: 0.9531 - val_loss: 1.3592 - val_accuracy: 0.5625\n",
      "Epoch 294/300\n",
      "192/192 [==============================] - 0s 652us/step - loss: 0.2106 - accuracy: 0.9167 - val_loss: 0.9400 - val_accuracy: 0.6458\n",
      "Epoch 295/300\n",
      "192/192 [==============================] - 0s 667us/step - loss: 0.2382 - accuracy: 0.9219 - val_loss: 0.8239 - val_accuracy: 0.7500\n",
      "Epoch 296/300\n",
      "192/192 [==============================] - 0s 922us/step - loss: 0.2004 - accuracy: 0.9479 - val_loss: 1.2783 - val_accuracy: 0.6042\n",
      "Epoch 297/300\n",
      "192/192 [==============================] - 0s 798us/step - loss: 0.2163 - accuracy: 0.9323 - val_loss: 1.2354 - val_accuracy: 0.6042\n",
      "Epoch 298/300\n",
      "192/192 [==============================] - 0s 605us/step - loss: 0.2328 - accuracy: 0.9062 - val_loss: 1.1769 - val_accuracy: 0.6042\n",
      "Epoch 299/300\n",
      "192/192 [==============================] - 0s 721us/step - loss: 0.2306 - accuracy: 0.9062 - val_loss: 1.6259 - val_accuracy: 0.4792\n",
      "Epoch 300/300\n",
      "192/192 [==============================] - 0s 879us/step - loss: 0.2315 - accuracy: 0.9219 - val_loss: 1.3519 - val_accuracy: 0.6042\n"
     ]
    }
   ],
   "source": [
    "history = model.fit(X_train,Y_train,epochs=300, validation_split=0.20, batch_size=10)"
   ]
  },
  {
   "cell_type": "code",
   "execution_count": 64,
   "metadata": {},
   "outputs": [
    {
     "name": "stdout",
     "output_type": "stream",
     "text": [
      "240/240 [==============================] - 0s 1ms/step\n"
     ]
    }
   ],
   "source": [
    "scores = model.evaluate(X_train, Y_train)"
   ]
  },
  {
   "cell_type": "code",
   "execution_count": 65,
   "metadata": {},
   "outputs": [
    {
     "name": "stdout",
     "output_type": "stream",
     "text": [
      "\n",
      "Presnosť siete: 87.50%\n"
     ]
    }
   ],
   "source": [
    "print(\"\\nPresnosť siete: %.2f%%\" % (scores[1]*100))"
   ]
  },
  {
   "cell_type": "code",
   "execution_count": 66,
   "metadata": {},
   "outputs": [
    {
     "name": "stdout",
     "output_type": "stream",
     "text": [
      "dict_keys(['val_loss', 'val_accuracy', 'loss', 'accuracy'])\n"
     ]
    }
   ],
   "source": [
    "print(history.history.keys())"
   ]
  },
  {
   "cell_type": "code",
   "execution_count": 67,
   "metadata": {},
   "outputs": [
    {
     "data": {
      "image/png": "[encoded data removed]",
      "text/plain": [
       "<Figure size 432x288 with 1 Axes>"
      ]
     },
     "metadata": {
      "needs_background": "light"
     },
     "output_type": "display_data"
    }
   ],
   "source": [
    "plt.plot(history.history['accuracy'])\n",
    "plt.plot(history.history['val_accuracy'])\n",
    "plt.title('model accuracy')\n",
    "plt.ylabel('accuracy')\n",
    "plt.xlabel('epoch')\n",
    "plt.legend(['train', 'test'], loc='upper left')\n",
    "plt.show()"
   ]
  },
  {
   "cell_type": "code",
   "execution_count": 68,
   "metadata": {},
   "outputs": [
    {
     "data": {
      "image/png": "[encoded data removed]",
      "text/plain": [
       "<Figure size 432x288 with 1 Axes>"
      ]
     },
     "metadata": {
      "needs_background": "light"
     },
     "output_type": "display_data"
    }
   ],
   "source": [
    "plt.plot(history.history['loss'])\n",
    "plt.plot(history.history['val_loss'])\n",
    "plt.title('model loss')\n",
    "plt.ylabel('loss')\n",
    "plt.xlabel('epoch')\n",
    "plt.legend(['train', 'test'], loc='upper left')\n",
    "plt.show()"
   ]
  },
  {
   "cell_type": "code",
   "execution_count": null,
   "metadata": {},
   "outputs": [],
   "source": []
  }
 ],
 "metadata": {
  "kernelspec": {
   "display_name": "Python 3.6",
   "language": "python",
   "name": "python36"
  },
  "language_info": {
   "codemirror_mode": {
    "name": "ipython",
    "version": 3
   },
   "file_extension": ".py",
   "mimetype": "text/x-python",
   "name": "python",
   "nbconvert_exporter": "python",
   "pygments_lexer": "ipython3",
   "version": "3.6.6"
  }
 },
 "nbformat": 4,
 "nbformat_minor": 2
}
