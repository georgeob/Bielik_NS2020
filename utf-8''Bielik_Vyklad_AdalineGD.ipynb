{
  "cells": [
    {
      "metadata": {
        "trusted": true
      },
      "cell_type": "code",
      "source": "# knižnice\nimport matplotlib.pyplot as plt\nimport numpy as np\nfrom sklearn import preprocessing\nimport pandas as pd",
      "execution_count": 1,
      "outputs": []
    },
    {
      "metadata": {
        "trusted": true
      },
      "cell_type": "code",
      "source": "# definovanie pola -> dôvod pochopíme a vysvetlíme v ďalších krokoch\ndata = {'Vaha0':[], 'Vaha1': [], 'Vaha2': [], 'Chyba': []}\ndf_vahy = pd.DataFrame(data)",
      "execution_count": 11,
      "outputs": []
    },
    {
      "metadata": {
        "trusted": true
      },
      "cell_type": "code",
      "source": "\n# Adaline bol vytvorený niekolko rokov neskôr po Perceptrone. \n# Na rozdiel od Perceptronu aktualizuje váhu na základe lineárnej aktivácie.\nclass AdalineGD(object):\n    \n    # v metóde definujeme rýhlosť učenia pre vstup a zároveň počet opakovaní kolko krát sa má cyklus vykonať, kedže je potrebné\n    # niekoľko krát opakovať proces, kvôli dokonalejším výsledkom\n    def __init__(self, rychlost_ucenia=0.01,pocet_iteracii = 50):\n\n        self.rychlost_ucenia = rychlost_ucenia\n        self.pocet_iteracii = pocet_iteracii\n        \n    # metóda fit znamená takzvané učenie sa, alebo proces učenia\n    # jej argumenty tvorí X, ktorý predtsavuje vstup pre trénovanie(matica), z datasetu, ktorý dalej loadujeme berie stľpce, ktoré mu nadefinujeme\n    # ďalší argument je y, ten predstavuje výsledky ako pole, ktoré očakávame\n    def fit(self,X,y):\n        \n        #váhy na začiatku nastavíme na nulu a nastavíme si šírku pola váh\n        \n        self.w_ = np.zeros(1+X.shape[1])\n        self.cost_=[]\n        \n        self.vahy_visu0 = []\n        self.vahy_visu1 = []\n        self.vahy_visu2 = []\n        \n# proces učenia sa definovaný na základe matematických vzorcov pre vstupy, výstupy, chyby a váhy\n# v podstate všetko potrebné pre to aby sme prišli k hodnotám pri akých je dobrá miera učenia sa pre optimálnu konvergenciu\n# aktualizácia váh je počítaná na základe všetkých vzoriek a nie ako pri Perceptrone postupne po každej vzorke\n        for i in range (self.pocet_iteracii):\n            output = self.net_input(X)       \n            errors = (y-output)\n            self.w_[1:] += self.rychlost_ucenia * X.T.dot(errors)\n            self.w_[0] += self.rychlost_ucenia * errors.sum()\n            cost = (errors ** 2).sum()/2.0\n            self.cost_.append(cost)\n            \n            # načítanie váh do premenných neskôr pre vizualizáciu\n            self.vahy_visu0.append(self.w_[0])\n            self.vahy_visu1.append(self.w_[1])\n            self.vahy_visu2.append(self.w_[2])\n            \n        # naplnanie riadkov datasetu po každej iterácii    \n        df_vahy['Vaha0'] = self.vahy_visu0\n        df_vahy['Vaha1'] = self.vahy_visu1\n        df_vahy['Vaha2'] = self.vahy_visu2\n        df_vahy['Chyba'] = self.cost_\n        return self\n    # vstup\n    def net_input(self,X):\n        return np.dot(X,self.w_[1:])+self.w_[0]\n    \n    # lineárna aktivácia pomocou ktorej aktualizujeme váhu\n    def linearna_aktivacia(self,X):\n        return self.net_input(X)\n    \n    # predpoklad\n    def predikcia(self,X):\n        return np.where(self.linearna_aktivacia(X)>=0.0,1,-1)",
      "execution_count": 2,
      "outputs": []
    },
    {
      "metadata": {
        "trusted": true
      },
      "cell_type": "code",
      "source": "# načítanie súboru, je to vlastne náš dataset, s ktorým budeme pracovať\n\ndf = pd.read_csv('heart-head.csv', header = None)",
      "execution_count": null,
      "outputs": []
    },
    {
      "metadata": {
        "trusted": true
      },
      "cell_type": "code",
      "source": "# do každej premennej si načítame nami požadované dáta z datasetu(vstup), určujeme aj stlpec z matice, ktorý požadujeme. V tomto prípade do X je to 1. a 3. stlpec\n# pre y môžeme vidieť tiež vybrané hodnoty, akúrát v ďalšom kroku ich ešte priamo vymedzíme podmienkou a následne vypíšeme\n# preprocessing.scale vstupnej matice je jej štandartizácia\n\npovodnaMatica_X = df.iloc[0:303,[0,13]].values\nX = preprocessing.scale(povodnaMatica_X)\ny = df.iloc[0:303, 13].values\n\nprint(y)",
      "execution_count": null,
      "outputs": []
    },
    {
      "metadata": {
        "trusted": true,
        "scrolled": true
      },
      "cell_type": "code",
      "source": "print(X)",
      "execution_count": null,
      "outputs": []
    },
    {
      "metadata": {
        "trusted": true
      },
      "cell_type": "code",
      "source": "# do premennej načítame celú triedu Adaline, a nastavíme si rýchlosť učenia a počet opakovaní\n# Keďže vyššie v programe máme celú Adaline triedu aj s metódami zadefinovanú, následne sme si načítali vstupný súbor a načítali potrebné dáta do premenných\n# v dalších krokoch môžeme už využívať zadefinované metódy\n\nmoj_adaline = AdalineGD(rychlost_ucenia=0.01,pocet_iteracii = 50)",
      "execution_count": null,
      "outputs": []
    },
    {
      "metadata": {
        "trusted": true,
        "scrolled": true
      },
      "cell_type": "code",
      "source": "# aplikovali sme proces učenia a zobrazíme si ako je naplnené X vstupom na trénovanie\nmoj_adaline.fit(X,y)\n",
      "execution_count": null,
      "outputs": []
    },
    {
      "metadata": {
        "trusted": true,
        "scrolled": true
      },
      "cell_type": "code",
      "source": "# zobrazenie váh po každej iterácií + prislúchajúca chyba\ndf_vahy",
      "execution_count": null,
      "outputs": []
    },
    {
      "metadata": {
        "trusted": true
      },
      "cell_type": "code",
      "source": "# zobrazenie finálnych váh po procese\nmoj_adaline.w_",
      "execution_count": null,
      "outputs": []
    },
    {
      "metadata": {
        "trusted": true
      },
      "cell_type": "code",
      "source": "# vizualzácia nami zvolených údajov z datasetu, podľa podmienky kde sa v datasete nachádzajú tie, ktoré sme si my zvolili\nplt.scatter(X[0:50,0],X[0:50,1], marker='o', label='kosatec_sibirsky')\nplt.scatter(X[50:100,0],X[50:100,1], marker='x', label='kosatec_roznofarebny')\n\nplt.xlabel('petal length')\nplt.ylabel('sepal length')\nplt.legend()",
      "execution_count": null,
      "outputs": []
    },
    {
      "metadata": {
        "trusted": true
      },
      "cell_type": "code",
      "source": "# vykreslenie chyby po celom procese\n# na danom grafe môžeme vidieť, že v tomto prípade sme v prijatelných hodnotách a máme správne nastavené hodnoty pre učenie a počet iterácií\n# svoju úlohu taktiež zohralo aj škálovanie funkcií a to konkrétne štandartizácia\n# pri použití iných hodnôt pre učenie a iný počet iterácií, môže nastať situácia kedy by sme dané hodnoty neodhadli a bez využitia štandartizácie\n# by tieto hodnoty na grafe z ľava do pravo klesali a nachádzali by sa v minimách...\n# v našom prípade môžeme vidieť celkom dobré výsledky, tie odhadujeme na základe stabilizovania sa grafu pri minimálnej chybe\n\nplt.plot(moj_adaline.cost_, label = 'chyba')\nplt.legend()",
      "execution_count": null,
      "outputs": []
    },
    {
      "metadata": {
        "trusted": true
      },
      "cell_type": "code",
      "source": "# vyualizácia výsledných váh \n\nplt.plot(moj_adaline.vahy_visu0, label = '1. váha')\nplt.plot(moj_adaline.vahy_visu1, label = '2. váha')\nplt.plot(moj_adaline.vahy_visu2, label = '3. váha')\nplt.legend()",
      "execution_count": null,
      "outputs": []
    },
    {
      "metadata": {
        "trusted": true
      },
      "cell_type": "code",
      "source": "",
      "execution_count": null,
      "outputs": []
    },
    {
      "metadata": {
        "trusted": true
      },
      "cell_type": "code",
      "source": "df = pd.read_csv('heart-head.csv', header = None)",
      "execution_count": 3,
      "outputs": []
    },
    {
      "metadata": {
        "trusted": true
      },
      "cell_type": "code",
      "source": "df.head()",
      "execution_count": 4,
      "outputs": [
        {
          "output_type": "execute_result",
          "execution_count": 4,
          "data": {
            "text/html": "<div>\n<style scoped>\n    .dataframe tbody tr th:only-of-type {\n        vertical-align: middle;\n    }\n\n    .dataframe tbody tr th {\n        vertical-align: top;\n    }\n\n    .dataframe thead th {\n        text-align: right;\n    }\n</style>\n<table border=\"1\" class=\"dataframe\">\n  <thead>\n    <tr style=\"text-align: right;\">\n      <th></th>\n      <th>0</th>\n      <th>1</th>\n      <th>2</th>\n      <th>3</th>\n      <th>4</th>\n      <th>5</th>\n      <th>6</th>\n      <th>7</th>\n      <th>8</th>\n      <th>9</th>\n      <th>10</th>\n      <th>11</th>\n      <th>12</th>\n      <th>13</th>\n    </tr>\n  </thead>\n  <tbody>\n    <tr>\n      <th>0</th>\n      <td>63</td>\n      <td>1</td>\n      <td>3</td>\n      <td>145</td>\n      <td>233</td>\n      <td>1</td>\n      <td>0</td>\n      <td>150</td>\n      <td>0</td>\n      <td>2.3</td>\n      <td>0</td>\n      <td>0</td>\n      <td>1</td>\n      <td>1</td>\n    </tr>\n    <tr>\n      <th>1</th>\n      <td>37</td>\n      <td>1</td>\n      <td>2</td>\n      <td>130</td>\n      <td>250</td>\n      <td>0</td>\n      <td>1</td>\n      <td>187</td>\n      <td>0</td>\n      <td>3.5</td>\n      <td>0</td>\n      <td>0</td>\n      <td>2</td>\n      <td>1</td>\n    </tr>\n    <tr>\n      <th>2</th>\n      <td>41</td>\n      <td>0</td>\n      <td>1</td>\n      <td>130</td>\n      <td>204</td>\n      <td>0</td>\n      <td>0</td>\n      <td>172</td>\n      <td>0</td>\n      <td>1.4</td>\n      <td>2</td>\n      <td>0</td>\n      <td>2</td>\n      <td>1</td>\n    </tr>\n    <tr>\n      <th>3</th>\n      <td>56</td>\n      <td>1</td>\n      <td>1</td>\n      <td>120</td>\n      <td>236</td>\n      <td>0</td>\n      <td>1</td>\n      <td>178</td>\n      <td>0</td>\n      <td>0.8</td>\n      <td>2</td>\n      <td>0</td>\n      <td>2</td>\n      <td>1</td>\n    </tr>\n    <tr>\n      <th>4</th>\n      <td>57</td>\n      <td>0</td>\n      <td>0</td>\n      <td>120</td>\n      <td>354</td>\n      <td>0</td>\n      <td>1</td>\n      <td>163</td>\n      <td>1</td>\n      <td>0.6</td>\n      <td>2</td>\n      <td>0</td>\n      <td>2</td>\n      <td>1</td>\n    </tr>\n  </tbody>\n</table>\n</div>",
            "text/plain": "   0   1   2    3    4   5   6    7   8    9   10  11  12  13\n0  63   1   3  145  233   1   0  150   0  2.3   0   0   1   1\n1  37   1   2  130  250   0   1  187   0  3.5   0   0   2   1\n2  41   0   1  130  204   0   0  172   0  1.4   2   0   2   1\n3  56   1   1  120  236   0   1  178   0  0.8   2   0   2   1\n4  57   0   0  120  354   0   1  163   1  0.6   2   0   2   1"
          },
          "metadata": {}
        }
      ]
    },
    {
      "metadata": {
        "trusted": true
      },
      "cell_type": "code",
      "source": "df.tail()",
      "execution_count": 5,
      "outputs": [
        {
          "output_type": "execute_result",
          "execution_count": 5,
          "data": {
            "text/html": "<div>\n<style scoped>\n    .dataframe tbody tr th:only-of-type {\n        vertical-align: middle;\n    }\n\n    .dataframe tbody tr th {\n        vertical-align: top;\n    }\n\n    .dataframe thead th {\n        text-align: right;\n    }\n</style>\n<table border=\"1\" class=\"dataframe\">\n  <thead>\n    <tr style=\"text-align: right;\">\n      <th></th>\n      <th>0</th>\n      <th>1</th>\n      <th>2</th>\n      <th>3</th>\n      <th>4</th>\n      <th>5</th>\n      <th>6</th>\n      <th>7</th>\n      <th>8</th>\n      <th>9</th>\n      <th>10</th>\n      <th>11</th>\n      <th>12</th>\n      <th>13</th>\n    </tr>\n  </thead>\n  <tbody>\n    <tr>\n      <th>298</th>\n      <td>57</td>\n      <td>0</td>\n      <td>0</td>\n      <td>140</td>\n      <td>241</td>\n      <td>0</td>\n      <td>1</td>\n      <td>123</td>\n      <td>1</td>\n      <td>0.2</td>\n      <td>1</td>\n      <td>0</td>\n      <td>3</td>\n      <td>0</td>\n    </tr>\n    <tr>\n      <th>299</th>\n      <td>45</td>\n      <td>1</td>\n      <td>3</td>\n      <td>110</td>\n      <td>264</td>\n      <td>0</td>\n      <td>1</td>\n      <td>132</td>\n      <td>0</td>\n      <td>1.2</td>\n      <td>1</td>\n      <td>0</td>\n      <td>3</td>\n      <td>0</td>\n    </tr>\n    <tr>\n      <th>300</th>\n      <td>68</td>\n      <td>1</td>\n      <td>0</td>\n      <td>144</td>\n      <td>193</td>\n      <td>1</td>\n      <td>1</td>\n      <td>141</td>\n      <td>0</td>\n      <td>3.4</td>\n      <td>1</td>\n      <td>2</td>\n      <td>3</td>\n      <td>0</td>\n    </tr>\n    <tr>\n      <th>301</th>\n      <td>57</td>\n      <td>1</td>\n      <td>0</td>\n      <td>130</td>\n      <td>131</td>\n      <td>0</td>\n      <td>1</td>\n      <td>115</td>\n      <td>1</td>\n      <td>1.2</td>\n      <td>1</td>\n      <td>1</td>\n      <td>3</td>\n      <td>0</td>\n    </tr>\n    <tr>\n      <th>302</th>\n      <td>57</td>\n      <td>0</td>\n      <td>1</td>\n      <td>130</td>\n      <td>236</td>\n      <td>0</td>\n      <td>0</td>\n      <td>174</td>\n      <td>0</td>\n      <td>0.0</td>\n      <td>1</td>\n      <td>1</td>\n      <td>2</td>\n      <td>0</td>\n    </tr>\n  </tbody>\n</table>\n</div>",
            "text/plain": "     0   1   2    3    4   5   6    7   8    9   10  11  12  13\n298  57   0   0  140  241   0   1  123   1  0.2   1   0   3   0\n299  45   1   3  110  264   0   1  132   0  1.2   1   0   3   0\n300  68   1   0  144  193   1   1  141   0  3.4   1   2   3   0\n301  57   1   0  130  131   0   1  115   1  1.2   1   1   3   0\n302  57   0   1  130  236   0   0  174   0  0.0   1   1   2   0"
          },
          "metadata": {}
        }
      ]
    },
    {
      "metadata": {
        "trusted": true
      },
      "cell_type": "code",
      "source": "Xtrain = df.iloc[0:200,[0,6]].values\nXtest =  df.iloc[200:303,[0,6]].values\nytrain = df.iloc[0:200, 13].values\nytest = df.iloc[200:303, 13].values",
      "execution_count": 6,
      "outputs": []
    },
    {
      "metadata": {
        "trusted": true
      },
      "cell_type": "code",
      "source": "X_train_std = preprocessing.scale(Xtrain)\nX_test_std = preprocessing.scale(Xtest)\n\ny_train_std = preprocessing.scale(ytrain)\ny_test_std = preprocessing.scale(ytest)",
      "execution_count": 7,
      "outputs": [
        {
          "output_type": "stream",
          "text": "/home/nbuser/anaconda3_501/lib/python3.6/site-packages/sklearn/utils/validation.py:595: DataConversionWarning: Data with input dtype int64 was converted to float64 by the scale function.\n  warnings.warn(msg, DataConversionWarning)\n/home/nbuser/anaconda3_501/lib/python3.6/site-packages/sklearn/utils/validation.py:595: DataConversionWarning: Data with input dtype int64 was converted to float64 by the scale function.\n  warnings.warn(msg, DataConversionWarning)\n/home/nbuser/anaconda3_501/lib/python3.6/site-packages/sklearn/utils/validation.py:595: DataConversionWarning: Data with input dtype int64 was converted to float64 by the scale function.\n  warnings.warn(msg, DataConversionWarning)\n/home/nbuser/anaconda3_501/lib/python3.6/site-packages/sklearn/utils/validation.py:595: DataConversionWarning: Data with input dtype int64 was converted to float64 by the scale function.\n  warnings.warn(msg, DataConversionWarning)\n",
          "name": "stderr"
        }
      ]
    },
    {
      "metadata": {
        "trusted": true,
        "scrolled": true
      },
      "cell_type": "code",
      "source": "print(X_train_std)",
      "execution_count": 8,
      "outputs": [
        {
          "output_type": "stream",
          "text": "[[ 1.05420569 -1.07301969]\n [-1.73981551  0.89582378]\n [-1.3099661  -1.07301969]\n [ 0.30196922  0.89582378]\n [ 0.40943157  0.89582378]\n [ 0.40943157  0.89582378]\n [ 0.30196922 -1.07301969]\n [-0.98757903  0.89582378]\n [-0.1278802   0.89582378]\n [ 0.40943157  0.89582378]\n [ 0.08704451  0.89582378]\n [-0.55772962  0.89582378]\n [-0.45026726  0.89582378]\n [ 1.16166805 -1.07301969]\n [ 0.51689392 -1.07301969]\n [-0.34280491  0.89582378]\n [ 0.51689392  0.89582378]\n [ 1.37659276  0.89582378]\n [-1.09504139  0.89582378]\n [ 1.69897982  0.89582378]\n [ 0.62435628  0.89582378]\n [-0.98757903  0.89582378]\n [-1.20250374  0.89582378]\n [ 0.83928099  0.89582378]\n [-1.41742845  0.89582378]\n [ 1.91390453  0.89582378]\n [ 0.62435628  0.89582378]\n [-0.23534256  0.89582378]\n [ 1.2691304  -1.07301969]\n [-0.02041785 -1.07301969]\n [-1.3099661   0.89582378]\n [ 1.2691304   0.89582378]\n [-0.98757903 -1.07301969]\n [ 0.08704451 -1.07301969]\n [-0.23534256 -1.07301969]\n [-0.77265433 -1.07301969]\n [ 0.08704451  0.89582378]\n [ 0.08704451 -1.07301969]\n [ 1.2691304   0.89582378]\n [ 1.2691304  -1.07301969]\n [-0.23534256 -1.07301969]\n [-0.55772962 -1.07301969]\n [-0.88011668 -1.07301969]\n [-0.02041785 -1.07301969]\n [-1.5248908  -1.07301969]\n [-0.1278802   0.89582378]\n [-0.98757903 -1.07301969]\n [-0.66519197 -1.07301969]\n [-0.02041785 -1.07301969]\n [-0.02041785 -1.07301969]\n [-0.23534256 -1.07301969]\n [ 1.37659276 -1.07301969]\n [ 0.94674334  0.89582378]\n [-0.98757903  0.89582378]\n [ 1.05420569 -1.07301969]\n [-0.1278802   0.89582378]\n [-0.55772962 -1.07301969]\n [-0.88011668 -1.07301969]\n [-2.06220258 -1.07301969]\n [ 0.40943157 -1.07301969]\n [ 1.91390453 -1.07301969]\n [ 0.08704451  0.89582378]\n [-0.1278802  -1.07301969]\n [-1.3099661   0.89582378]\n [ 0.51689392 -1.07301969]\n [-1.95474022  0.89582378]\n [-0.23534256  0.89582378]\n [-0.88011668 -1.07301969]\n [-0.98757903  0.89582378]\n [ 0.94674334  0.89582378]\n [ 0.08704451 -1.07301969]\n [-0.23534256  0.89582378]\n [-2.59951435 -1.07301969]\n [-0.23534256 -1.07301969]\n [-1.09504139  0.89582378]\n [ 0.19450686 -1.07301969]\n [-0.23534256 -1.07301969]\n [ 0.62435628  0.89582378]\n [-0.1278802   0.89582378]\n [ 0.51689392 -1.07301969]\n [-1.3099661   0.89582378]\n [-0.88011668 -1.07301969]\n [ 0.73181863  0.89582378]\n [-0.1278802   0.89582378]\n [-1.20250374 -1.07301969]\n [ 1.48405511 -1.07301969]\n [ 1.59151746  0.89582378]\n [-0.77265433  0.89582378]\n [ 0.08704451  0.89582378]\n [ 0.51689392 -1.07301969]\n [-0.55772962  0.89582378]\n [ 0.40943157  0.89582378]\n [-0.1278802   0.89582378]\n [ 0.08704451 -1.07301969]\n [-0.88011668  0.89582378]\n [-0.02041785 -1.07301969]\n [ 0.94674334 -1.07301969]\n [-0.1278802   0.89582378]\n [-1.09504139  0.89582378]\n [-0.02041785 -1.07301969]\n [-1.20250374 -1.07301969]\n [ 0.62435628 -1.07301969]\n [ 1.05420569  0.89582378]\n [-1.20250374  0.89582378]\n [-0.34280491  0.89582378]\n [ 1.59151746 -1.07301969]\n [ 1.69897982 -1.07301969]\n [-0.88011668 -1.07301969]\n [-0.34280491  0.89582378]\n [-0.34280491 -1.07301969]\n [ 1.16166805  0.89582378]\n [ 0.40943157  0.89582378]\n [ 1.16166805  0.89582378]\n [-1.09504139  0.89582378]\n [ 0.19450686  0.89582378]\n [-1.73981551  0.89582378]\n [-1.3099661  -1.07301969]\n [ 0.30196922 -1.07301969]\n [-0.77265433  0.89582378]\n [-0.77265433 -1.07301969]\n [ 1.16166805  0.89582378]\n [ 0.62435628 -1.07301969]\n [-1.3099661  -1.07301969]\n [ 0.08704451 -1.07301969]\n [-1.5248908   0.89582378]\n [-2.06220258  0.89582378]\n [-0.66519197  0.89582378]\n [ 1.48405511  0.89582378]\n [-0.1278802  -1.07301969]\n [ 2.23629159 -1.07301969]\n [ 0.08704451  0.89582378]\n [-0.45026726  0.89582378]\n [-1.20250374  0.89582378]\n [-1.3099661   0.89582378]\n [-1.3099661   0.89582378]\n [-0.45026726  0.89582378]\n [ 0.73181863  0.89582378]\n [ 0.94674334 -1.07301969]\n [ 0.40943157  0.89582378]\n [ 1.16166805  0.89582378]\n [-0.23534256 -1.07301969]\n [-1.09504139  0.89582378]\n [-1.20250374  0.89582378]\n [ 1.48405511  0.89582378]\n [ 2.4512163   2.86466725]\n [ 1.80644217 -1.07301969]\n [-0.98757903  0.89582378]\n [ 0.73181863  0.89582378]\n [-0.98757903  0.89582378]\n [-1.20250374  0.89582378]\n [ 1.37659276 -1.07301969]\n [ 1.91390453  0.89582378]\n [ 1.16166805 -1.07301969]\n [ 1.37659276 -1.07301969]\n [-1.5248908   0.89582378]\n [ 0.51689392  0.89582378]\n [-0.66519197  0.89582378]\n [-1.95474022  0.89582378]\n [ 0.51689392  0.89582378]\n [ 0.30196922 -1.07301969]\n [ 0.30196922  0.89582378]\n [ 0.19450686  0.89582378]\n [-1.3099661   0.89582378]\n [-1.63235316  0.89582378]\n [-1.63235316  0.89582378]\n [ 1.48405511 -1.07301969]\n [ 1.48405511 -1.07301969]\n [ 0.94674334 -1.07301969]\n [ 1.05420569 -1.07301969]\n [-0.02041785 -1.07301969]\n [ 0.30196922 -1.07301969]\n [-0.55772962  0.89582378]\n [ 0.51689392 -1.07301969]\n [ 0.51689392 -1.07301969]\n [ 0.73181863 -1.07301969]\n [-1.41742845 -1.07301969]\n [ 0.73181863  0.89582378]\n [ 1.16166805  0.89582378]\n [-1.09504139 -1.07301969]\n [ 0.40943157 -1.07301969]\n [ 0.19450686  0.89582378]\n [ 1.2691304  -1.07301969]\n [ 0.83928099 -1.07301969]\n [ 0.51689392 -1.07301969]\n [-0.34280491 -1.07301969]\n [-0.98757903 -1.07301969]\n [ 0.73181863  0.89582378]\n [ 0.08704451 -1.07301969]\n [-0.34280491  0.89582378]\n [-1.3099661  -1.07301969]\n [-0.23534256  0.89582378]\n [ 0.51689392 -1.07301969]\n [ 0.08704451  0.89582378]\n [ 0.73181863 -1.07301969]\n [ 0.73181863 -1.07301969]\n [ 0.62435628 -1.07301969]\n [-0.77265433  0.89582378]\n [ 1.48405511  0.89582378]\n [ 0.94674334  0.89582378]\n [ 1.2691304  -1.07301969]]\n",
          "name": "stdout"
        }
      ]
    },
    {
      "metadata": {
        "trusted": true,
        "scrolled": true
      },
      "cell_type": "code",
      "source": "print(X_test_std)",
      "execution_count": 9,
      "outputs": [
        {
          "output_type": "stream",
          "text": "[[-1.55952982 -0.89185921]\n [ 0.41292232 -0.89185921]\n [ 0.16636581 -0.89185921]\n [ 1.3991484  -0.89185921]\n [ 0.65947884 -0.89185921]\n [-0.57330375  0.90934664]\n [ 0.28964407 -0.89185921]\n [ 0.41292232 -0.89185921]\n [-0.94313853  0.90934664]\n [ 0.28964407  0.90934664]\n [ 0.04308755 -0.89185921]\n [ 0.53620058  0.90934664]\n [-2.17592112  0.90934664]\n [ 0.53620058 -0.89185921]\n [-0.08019071 -0.89185921]\n [-1.68280808 -0.89185921]\n [ 0.65947884  0.90934664]\n [ 0.7827571  -0.89185921]\n [ 1.02931362 -0.89185921]\n [-1.06641679 -0.89185921]\n [ 0.7827571  -0.89185921]\n [-0.20346897  0.90934664]\n [ 1.02931362 -0.89185921]\n [-0.08019071 -0.89185921]\n [-0.32674723  0.90934664]\n [ 1.64570492  0.90934664]\n [ 0.65947884 -0.89185921]\n [-2.66903416  0.90934664]\n [ 0.28964407 -0.89185921]\n [ 0.90603536  0.90934664]\n [-1.18969505  0.90934664]\n [ 0.04308755 -0.89185921]\n [-0.20346897 -0.89185921]\n [ 0.90603536 -0.89185921]\n [ 1.64570492 -0.89185921]\n [-0.69658201  0.90934664]\n [ 0.16636581 -0.89185921]\n [ 0.41292232 -0.89185921]\n [ 2.50865273 -0.89185921]\n [-2.66903416 -0.89185921]\n [ 1.64570492  0.90934664]\n [ 0.28964407  0.90934664]\n [ 0.90603536 -0.89185921]\n [ 0.04308755  0.90934664]\n [-0.08019071 -0.89185921]\n [-1.06641679 -0.89185921]\n [-0.08019071 -0.89185921]\n [ 1.15259188  0.90934664]\n [-0.32674723 -0.89185921]\n [ 1.52242666 -0.89185921]\n [-0.69658201  0.90934664]\n [-1.68280808 -0.89185921]\n [ 0.65947884  0.90934664]\n [ 1.27587014 -0.89185921]\n [ 0.28964407 -0.89185921]\n [-1.43625156 -0.89185921]\n [ 0.16636581 -0.89185921]\n [-0.81986027 -0.89185921]\n [ 0.65947884  0.90934664]\n [-2.29919938  0.90934664]\n [ 1.15259188  0.90934664]\n [-0.57330375  0.90934664]\n [-0.45002549  0.90934664]\n [ 0.7827571   0.90934664]\n [-0.32674723 -0.89185921]\n [ 1.15259188 -0.89185921]\n [-0.20346897  2.71055249]\n [-0.94313853 -0.89185921]\n [-0.32674723 -0.89185921]\n [-0.08019071 -0.89185921]\n [-1.3129733  -0.89185921]\n [ 0.53620058  0.90934664]\n [ 1.27587014  0.90934664]\n [ 0.16636581  0.90934664]\n [-1.18969505 -0.89185921]\n [-0.57330375  0.90934664]\n [ 0.16636581  0.90934664]\n [ 0.04308755  0.90934664]\n [ 0.16636581 -0.89185921]\n [ 0.53620058 -0.89185921]\n [-1.80608634  0.90934664]\n [-0.57330375  0.90934664]\n [ 0.28964407  0.90934664]\n [-2.05264286  0.90934664]\n [ 0.53620058 -0.89185921]\n [-1.3129733   0.90934664]\n [ 0.28964407  0.90934664]\n [ 0.04308755 -0.89185921]\n [ 0.04308755  0.90934664]\n [-0.20346897  2.71055249]\n [ 0.53620058  0.90934664]\n [ 0.16636581  2.71055249]\n [ 0.16636581 -0.89185921]\n [ 1.27587014 -0.89185921]\n [-1.55952982  0.90934664]\n [ 0.7827571  -0.89185921]\n [ 0.7827571   0.90934664]\n [ 0.28964407 -0.89185921]\n [ 0.04308755  0.90934664]\n [-1.43625156  0.90934664]\n [ 1.3991484   0.90934664]\n [ 0.04308755  0.90934664]\n [ 0.04308755 -0.89185921]]\n",
          "name": "stdout"
        }
      ]
    },
    {
      "metadata": {
        "trusted": true,
        "scrolled": true
      },
      "cell_type": "code",
      "source": "moj_adaline = AdalineGD(rychlost_ucenia=0.01,pocet_iteracii = 50)\nmoj_adaline.fit(X_train_std, ytrain)",
      "execution_count": 12,
      "outputs": [
        {
          "output_type": "execute_result",
          "execution_count": 12,
          "data": {
            "text/plain": "<__main__.AdalineGD at 0x7fddeed244a8>"
          },
          "metadata": {}
        }
      ]
    },
    {
      "metadata": {
        "trusted": true
      },
      "cell_type": "code",
      "source": "y_pred = moj_adaline.predikcia(X_test_std)",
      "execution_count": 13,
      "outputs": []
    },
    {
      "metadata": {
        "trusted": true
      },
      "cell_type": "code",
      "source": "from sklearn.metrics import accuracy_score\nprint('Presnos: ', accuracy_score(ytest, y_pred)*100,\"%\")",
      "execution_count": 14,
      "outputs": [
        {
          "output_type": "stream",
          "text": "Presnos:  0.0 %\n",
          "name": "stdout"
        }
      ]
    },
    {
      "metadata": {
        "trusted": true
      },
      "cell_type": "code",
      "source": "",
      "execution_count": null,
      "outputs": []
    },
    {
      "metadata": {
        "trusted": true
      },
      "cell_type": "code",
      "source": "from mlxtend.classifier import Adaline",
      "execution_count": 17,
      "outputs": [
        {
          "output_type": "error",
          "ename": "ModuleNotFoundError",
          "evalue": "No module named 'mlxtend'",
          "traceback": [
            "\u001b[0;31m---------------------------------------------------------------------------\u001b[0m",
            "\u001b[0;31mModuleNotFoundError\u001b[0m                       Traceback (most recent call last)",
            "\u001b[0;32m<ipython-input-17-864798702d08>\u001b[0m in \u001b[0;36m<module>\u001b[0;34m\u001b[0m\n\u001b[0;32m----> 1\u001b[0;31m \u001b[0;32mfrom\u001b[0m \u001b[0mmlxtend\u001b[0m\u001b[0;34m.\u001b[0m\u001b[0mclassifier\u001b[0m \u001b[0;32mimport\u001b[0m \u001b[0mAdaline\u001b[0m\u001b[0;34m\u001b[0m\u001b[0m\n\u001b[0m",
            "\u001b[0;31mModuleNotFoundError\u001b[0m: No module named 'mlxtend'"
          ]
        }
      ]
    },
    {
      "metadata": {
        "trusted": true
      },
      "cell_type": "code",
      "source": "from sklearn.model_selection import train_test_split\ndf = pd.read_csv('heart-head.csv', header = None)",
      "execution_count": 21,
      "outputs": []
    },
    {
      "metadata": {
        "trusted": true
      },
      "cell_type": "code",
      "source": "X = df.iloc[0:303,[0,8]].values\ny = df.iloc[0:303, 13].values",
      "execution_count": 32,
      "outputs": []
    },
    {
      "metadata": {
        "trusted": true
      },
      "cell_type": "code",
      "source": "X_train, X_test, y_train, y_test = train_test_split(\n    X, y, test_size=0.33, random_state=109)",
      "execution_count": 37,
      "outputs": []
    },
    {
      "metadata": {
        "trusted": true
      },
      "cell_type": "code",
      "source": "from sklearn.preprocessing import StandardScaler\n\nsc = StandardScaler()\nsc.fit(X_train)\nX_train_std = sc.transform(X_train)\nX_test_std = sc.transform(X_test)",
      "execution_count": 38,
      "outputs": [
        {
          "output_type": "stream",
          "text": "/home/nbuser/anaconda3_501/lib/python3.6/site-packages/sklearn/utils/validation.py:595: DataConversionWarning: Data with input dtype int64 was converted to float64 by StandardScaler.\n  warnings.warn(msg, DataConversionWarning)\n/home/nbuser/anaconda3_501/lib/python3.6/site-packages/sklearn/utils/validation.py:595: DataConversionWarning: Data with input dtype int64 was converted to float64 by StandardScaler.\n  warnings.warn(msg, DataConversionWarning)\n/home/nbuser/anaconda3_501/lib/python3.6/site-packages/sklearn/utils/validation.py:595: DataConversionWarning: Data with input dtype int64 was converted to float64 by StandardScaler.\n  warnings.warn(msg, DataConversionWarning)\n",
          "name": "stderr"
        }
      ]
    },
    {
      "metadata": {
        "trusted": true
      },
      "cell_type": "code",
      "source": "from sklearn.linear_model import Perceptron\n\nppn = Perceptron(n_iter=60, eta0=0.1, random_state=0)\nppn.fit(X_train_std, y_train)",
      "execution_count": 39,
      "outputs": [
        {
          "output_type": "stream",
          "text": "/home/nbuser/anaconda3_501/lib/python3.6/site-packages/sklearn/linear_model/stochastic_gradient.py:152: DeprecationWarning: n_iter parameter is deprecated in 0.19 and will be removed in 0.21. Use max_iter and tol instead.\n  DeprecationWarning)\n",
          "name": "stderr"
        },
        {
          "output_type": "execute_result",
          "execution_count": 39,
          "data": {
            "text/plain": "Perceptron(alpha=0.0001, class_weight=None, early_stopping=False, eta0=0.1,\n      fit_intercept=True, max_iter=None, n_iter=60, n_iter_no_change=5,\n      n_jobs=None, penalty=None, random_state=0, shuffle=True, tol=None,\n      validation_fraction=0.1, verbose=0, warm_start=False)"
          },
          "metadata": {}
        }
      ]
    },
    {
      "metadata": {
        "trusted": true
      },
      "cell_type": "code",
      "source": "from sklearn.metrics import accuracy_score\n\ny_pred = ppn.predict(X_test_std)\nprint('Misclassified samples: %d' % (y_test != y_pred).sum())\nprint('Accuracy: %.2f' % accuracy_score(y_test, y_pred))",
      "execution_count": 40,
      "outputs": [
        {
          "output_type": "stream",
          "text": "Misclassified samples: 33\nAccuracy: 0.67\n",
          "name": "stdout"
        }
      ]
    },
    {
      "metadata": {
        "trusted": true
      },
      "cell_type": "code",
      "source": "",
      "execution_count": null,
      "outputs": []
    },
    {
      "metadata": {
        "trusted": true
      },
      "cell_type": "code",
      "source": "from sklearn.model_selection import train_test_split\ndf = pd.read_csv('heart-head.csv', header = None)",
      "execution_count": 47,
      "outputs": []
    },
    {
      "metadata": {
        "trusted": true
      },
      "cell_type": "code",
      "source": "X = df.iloc[0:303,[0,8]].values\ny = df.iloc[0:303, 13].values\nX_train, X_test, y_train, y_test = train_test_split(\n    X, y, test_size=0.33, random_state=0)",
      "execution_count": 60,
      "outputs": []
    },
    {
      "metadata": {
        "trusted": true
      },
      "cell_type": "code",
      "source": "class AdalineGD(object):\n\n    def __init__(self, eta=0.01, n_iter=50, random_state=1):\n        self.eta = eta\n        self.n_iter = n_iter\n        self.random_state = random_state\n\n    def fit(self, X, y):\n        rgen = np.random.RandomState(self.random_state)\n        self.w_ = rgen.normal(loc=0.0, scale=0.01, size=1 + X.shape[1])\n        self.cost_ = []\n\n        for i in range(self.n_iter):\n            output = self.activation(X)\n            errors = (y - output)\n            self.w_[1:] += self.eta * X.T.dot(errors)\n            self.w_[0] += self.eta * errors.sum()\n            cost = (errors**2).sum() / 2.0\n            self.cost_.append(cost)\n        return self\n\n    def net_input(self, X):\n        \"\"\"Calculate net input\"\"\"\n        return np.dot(X, self.w_[1:]) + self.w_[0]\n\n    def activation(self, X):\n        \"\"\"Compute linear activation\"\"\"\n        return self.net_input(X)\n\n    def predict(self, X):\n        \"\"\"Return class label after unit step\"\"\"\n        return np.where(self.activation(X) >= 0.0, 1, -1)",
      "execution_count": 61,
      "outputs": []
    },
    {
      "metadata": {
        "trusted": true
      },
      "cell_type": "code",
      "source": "ada = AdalineGD(n_iter=20, eta=0.01)\nada.fit(X_train_std, y_train)\n\n# cost values\n\nplt.plot(range(1, len(ada.cost_) + 1), ada.cost_, marker='o')\nplt.xlabel('Epochs')\nplt.ylabel('Sum-squared-error')\n\nplt.tight_layout()\nplt.show()\n\n# testing accuracy\n\ny_pred = ada.predict(X_test_std)\nprint('Misclassified samples: %d' % (y_test != y_pred).sum())\nprint('Accuracy: %.2f' % accuracy_score(y_test, y_pred))\n\n# plot decision boundary \n\nplot_decision_regions(X_combined_std, y_combined, \n                      classifier=ada, test_idx=range(len(y_train),\n                                                    len(y_train) + len(y_test)))\nplt.title('Adaline - Gradient Descent')\nplt.xlabel('Petal length [Standardized]')\nplt.ylabel('Petal width [Standardized]')\nplt.legend(loc='upper left')\nplt.tight_layout()\nplt.show()\n",
      "execution_count": 62,
      "outputs": [
        {
          "output_type": "display_data",
          "data": {
            "image/png": "[encoded data removed]",
            "text/plain": "<Figure size 432x288 with 1 Axes>"
          },
          "metadata": {
            "needs_background": "light"
          }
        },
        {
          "output_type": "stream",
          "text": "Misclassified samples: 83\nAccuracy: 0.17\n",
          "name": "stdout"
        },
        {
          "output_type": "error",
          "ename": "NameError",
          "evalue": "name 'plot_decision_regions' is not defined",
          "traceback": [
            "\u001b[0;31m---------------------------------------------------------------------------\u001b[0m",
            "\u001b[0;31mNameError\u001b[0m                                 Traceback (most recent call last)",
            "\u001b[0;32m<ipython-input-62-b0680433e381>\u001b[0m in \u001b[0;36m<module>\u001b[0;34m\u001b[0m\n\u001b[1;32m     19\u001b[0m \u001b[0;31m# plot decision boundary\u001b[0m\u001b[0;34m\u001b[0m\u001b[0;34m\u001b[0m\u001b[0m\n\u001b[1;32m     20\u001b[0m \u001b[0;34m\u001b[0m\u001b[0m\n\u001b[0;32m---> 21\u001b[0;31m plot_decision_regions(X_combined_std, y_combined, \n\u001b[0m\u001b[1;32m     22\u001b[0m                       classifier=ada, test_idx=range(len(y_train),\n\u001b[1;32m     23\u001b[0m                                                     len(y_train) + len(y_test)))\n",
            "\u001b[0;31mNameError\u001b[0m: name 'plot_decision_regions' is not defined"
          ]
        }
      ]
    },
    {
      "metadata": {
        "trusted": true
      },
      "cell_type": "code",
      "source": "",
      "execution_count": null,
      "outputs": []
    },
    {
      "metadata": {
        "trusted": true
      },
      "cell_type": "code",
      "source": "",
      "execution_count": null,
      "outputs": []
    },
    {
      "metadata": {
        "trusted": true
      },
      "cell_type": "code",
      "source": "",
      "execution_count": null,
      "outputs": []
    },
    {
      "metadata": {
        "trusted": true
      },
      "cell_type": "code",
      "source": "df = pd.read_csv('heart.csv')",
      "execution_count": 63,
      "outputs": []
    },
    {
      "metadata": {
        "trusted": true
      },
      "cell_type": "code",
      "source": "train = df.drop('target',axis = 1) \nprint(train.head())",
      "execution_count": 64,
      "outputs": [
        {
          "output_type": "stream",
          "text": "   age  sex  cp  trestbps  chol  fbs  restecg  thalach  exang  oldpeak  slope  \\\n0   63    1   3       145   233    1        0      150      0      2.3      0   \n1   37    1   2       130   250    0        1      187      0      3.5      0   \n2   41    0   1       130   204    0        0      172      0      1.4      2   \n3   56    1   1       120   236    0        1      178      0      0.8      2   \n4   57    0   0       120   354    0        1      163      1      0.6      2   \n\n   ca  thal  \n0   0     1  \n1   0     2  \n2   0     2  \n3   0     2  \n4   0     2  \n",
          "name": "stdout"
        }
      ]
    },
    {
      "metadata": {
        "trusted": true
      },
      "cell_type": "code",
      "source": "from sklearn.model_selection import train_test_split\n\nX_train, X_test, y_train, y_test = train_test_split(train, df.target, test_size=0.2,random_state=109) # 70% training and 30% test",
      "execution_count": 65,
      "outputs": []
    },
    {
      "metadata": {
        "trusted": true
      },
      "cell_type": "code",
      "source": "\nfrom sklearn import svm\n\nclf = svm.SVC(kernel='linear') # Linear Kernel\n\nclf.fit(X_train, y_train)\n\ny_pred = clf.predict(X_test)",
      "execution_count": 66,
      "outputs": []
    },
    {
      "metadata": {
        "trusted": true
      },
      "cell_type": "code",
      "source": "\nfrom sklearn import metrics\n\nprint(\"Accuracy:\",metrics.accuracy_score(y_test, y_pred))",
      "execution_count": 67,
      "outputs": [
        {
          "output_type": "stream",
          "text": "Accuracy: 0.9016393442622951\n",
          "name": "stdout"
        }
      ]
    },
    {
      "metadata": {
        "trusted": true
      },
      "cell_type": "code",
      "source": "\nprint(\"Precision:\",metrics.precision_score(y_test, y_pred))\n\nprint(\"Recall:\",metrics.recall_score(y_test, y_pred))",
      "execution_count": 68,
      "outputs": [
        {
          "output_type": "stream",
          "text": "Precision: 0.8947368421052632\nRecall: 0.9444444444444444\n",
          "name": "stdout"
        }
      ]
    },
    {
      "metadata": {
        "trusted": true
      },
      "cell_type": "code",
      "source": "",
      "execution_count": null,
      "outputs": []
    },
    {
      "metadata": {
        "trusted": true
      },
      "cell_type": "code",
      "source": "",
      "execution_count": null,
      "outputs": []
    },
    {
      "metadata": {
        "trusted": true
      },
      "cell_type": "code",
      "source": "",
      "execution_count": null,
      "outputs": []
    }
  ],
  "metadata": {
    "kernelspec": {
      "name": "python36",
      "display_name": "Python 3.6",
      "language": "python"
    },
    "language_info": {
      "mimetype": "text/x-python",
      "nbconvert_exporter": "python",
      "name": "python",
      "pygments_lexer": "ipython3",
      "version": "3.6.6",
      "file_extension": ".py",
      "codemirror_mode": {
        "version": 3,
        "name": "ipython"
      }
    }
  },
  "nbformat": 4,
  "nbformat_minor": 2
}